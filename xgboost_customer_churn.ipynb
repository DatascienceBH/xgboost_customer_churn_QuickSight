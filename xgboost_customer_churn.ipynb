{
 "cells": [
  {
   "cell_type": "markdown",
   "metadata": {},
   "source": [
    "# Customer Churn Prediction with XGBoost\n",
    "_**Using Gradient Boosted Trees to Predict Mobile Customer Departure**_\n",
    "\n",
    "---\n",
    "\n",
    "---\n",
    "\n",
    "## Contents\n",
    "\n",
    "1. [Background](#Background)\n",
    "1. [Setup](#Setup)\n",
    "1. [Data](#Data)\n",
    "1. [Train](#Train)\n",
    "1. [Compile](#Compile)\n",
    "1. [Host](#Host)\n",
    "  1. [Evaluate](#Evaluate)\n",
    "  1. [Relative cost of errors](#Relative-cost-of-errors)\n",
    "1. [Extensions](#Extensions)\n",
    "\n",
    "---\n",
    "\n",
    "## Background\n",
    "\n",
    "_This notebook has been adapted from an [AWS blog post](https://aws.amazon.com/blogs/ai/predicting-customer-churn-with-amazon-machine-learning/)_\n",
    "\n",
    "Losing customers is costly for any business.  Identifying unhappy customers early on gives you a chance to offer them incentives to stay.  This notebook describes using machine learning (ML) for the automated identification of unhappy customers, also known as customer churn prediction. ML models rarely give perfect predictions though, so this notebook is also about how to incorporate the relative costs of prediction mistakes when determining the financial outcome of using ML.\n",
    "\n",
    "We use an example of churn that is familiar to all of us–leaving a mobile phone operator.  Seems like I can always find fault with my provider du jour! And if my provider knows that I’m thinking of leaving, it can offer timely incentives–I can always use a phone upgrade or perhaps have a new feature activated–and I might just stick around. Incentives are often much more cost effective than losing and reacquiring a customer.\n",
    "\n",
    "---\n",
    "\n",
    "## Setup\n",
    "\n",
    "_This notebook was created and tested on an ml.m4.xlarge notebook instance._\n",
    "\n",
    "Let's start by specifying:\n",
    "\n",
    "- The S3 bucket and prefix that you want to use for training and model data.  This should be within the same region as the Notebook Instance, training, and hosting.\n",
    "- The IAM role arn used to give training and hosting access to your data. See the documentation for how to create these.  Note, if more than one role is required for notebook instances, training, and/or hosting, please replace the boto regexp with a the appropriate full IAM role arn string(s)."
   ]
  },
  {
   "cell_type": "code",
   "execution_count": 2,
   "metadata": {
    "isConfigCell": true,
    "tags": [
     "parameters"
    ]
   },
   "outputs": [],
   "source": [
    "bucket = 'demo-saeed-ohio'\n",
    "prefix = 'sagemaker/DEMO-xgboost-churn'\n",
    "\n",
    "# Define IAM role\n",
    "import boto3\n",
    "import re\n",
    "from sagemaker import get_execution_role\n",
    "\n",
    "role = get_execution_role()"
   ]
  },
  {
   "cell_type": "markdown",
   "metadata": {},
   "source": [
    "Next, we'll import the Python libraries we'll need for the remainder of the exercise."
   ]
  },
  {
   "cell_type": "code",
   "execution_count": 3,
   "metadata": {},
   "outputs": [],
   "source": [
    "import pandas as pd\n",
    "import numpy as np\n",
    "import matplotlib.pyplot as plt\n",
    "import io\n",
    "import os\n",
    "import sys\n",
    "import time\n",
    "import json\n",
    "from IPython.display import display\n",
    "from time import strftime, gmtime\n",
    "import sagemaker\n",
    "from sagemaker.predictor import csv_serializer"
   ]
  },
  {
   "cell_type": "markdown",
   "metadata": {},
   "source": [
    "---\n",
    "## Data\n",
    "\n",
    "Mobile operators have historical records on which customers ultimately ended up churning and which continued using the service. We can use this historical information to construct an ML model of one mobile operator’s churn using a process called training. After training the model, we can pass the profile information of an arbitrary customer (the same profile information that we used to train the model) to the model, and have the model predict whether this customer is going to churn. Of course, we expect the model to make mistakes–after all, predicting the future is tricky business! But I’ll also show how to deal with prediction errors.\n",
    "\n",
    "The dataset we use is publicly available and was mentioned in the book [Discovering Knowledge in Data](https://www.amazon.com/dp/0470908742/) by Daniel T. Larose. It is attributed by the author to the University of California Irvine Repository of Machine Learning Datasets.  Let's download and read that dataset in now:"
   ]
  },
  {
   "cell_type": "code",
   "execution_count": 4,
   "metadata": {},
   "outputs": [
    {
     "name": "stdout",
     "output_type": "stream",
     "text": [
      "--2020-02-13 19:30:59--  http://dataminingconsultant.com/DKD2e_data_sets.zip\n",
      "Resolving dataminingconsultant.com (dataminingconsultant.com)... 160.153.91.162\n",
      "Connecting to dataminingconsultant.com (dataminingconsultant.com)|160.153.91.162|:80... connected.\n",
      "HTTP request sent, awaiting response... 200 OK\n",
      "Length: 1003616 (980K) [application/zip]\n",
      "Saving to: ‘DKD2e_data_sets.zip’\n",
      "\n",
      "DKD2e_data_sets.zip 100%[===================>] 980.09K  2.62MB/s    in 0.4s    \n",
      "\n",
      "2020-02-13 19:30:59 (2.62 MB/s) - ‘DKD2e_data_sets.zip’ saved [1003616/1003616]\n",
      "\n",
      "Archive:  DKD2e_data_sets.zip\n",
      " extracting: Data sets/adult.zip     \n",
      "  inflating: Data sets/cars.txt      \n",
      "  inflating: Data sets/cars2.txt     \n",
      "  inflating: Data sets/cereals.CSV   \n",
      "  inflating: Data sets/churn.txt     \n",
      "  inflating: Data sets/ClassifyRisk  \n",
      "  inflating: Data sets/ClassifyRisk - Missing.txt  \n",
      " extracting: Data sets/DKD2e data sets.zip  \n",
      "  inflating: Data sets/nn1.txt       \n"
     ]
    }
   ],
   "source": [
    "!wget http://dataminingconsultant.com/DKD2e_data_sets.zip\n",
    "!unzip -o DKD2e_data_sets.zip"
   ]
  },
  {
   "cell_type": "code",
   "execution_count": 335,
   "metadata": {},
   "outputs": [],
   "source": []
  },
  {
   "cell_type": "code",
   "execution_count": 104,
   "metadata": {},
   "outputs": [
    {
     "data": {
      "text/html": [
       "<div>\n",
       "<style scoped>\n",
       "    .dataframe tbody tr th:only-of-type {\n",
       "        vertical-align: middle;\n",
       "    }\n",
       "\n",
       "    .dataframe tbody tr th {\n",
       "        vertical-align: top;\n",
       "    }\n",
       "\n",
       "    .dataframe thead th {\n",
       "        text-align: right;\n",
       "    }\n",
       "</style>\n",
       "<table border=\"1\" class=\"dataframe\">\n",
       "  <thead>\n",
       "    <tr style=\"text-align: right;\">\n",
       "      <th></th>\n",
       "      <th>State</th>\n",
       "      <th>Account Length</th>\n",
       "      <th>Area Code</th>\n",
       "      <th>Phone</th>\n",
       "      <th>Int'l Plan</th>\n",
       "      <th>VMail Plan</th>\n",
       "      <th>VMail Message</th>\n",
       "      <th>Day Mins</th>\n",
       "      <th>Day Calls</th>\n",
       "      <th>Day Charge</th>\n",
       "      <th>Eve Mins</th>\n",
       "      <th>Eve Calls</th>\n",
       "      <th>Eve Charge</th>\n",
       "      <th>Night Mins</th>\n",
       "      <th>Night Calls</th>\n",
       "      <th>Night Charge</th>\n",
       "      <th>Intl Mins</th>\n",
       "      <th>Intl Calls</th>\n",
       "      <th>Intl Charge</th>\n",
       "      <th>CustServ Calls</th>\n",
       "      <th>Churn?</th>\n",
       "    </tr>\n",
       "  </thead>\n",
       "  <tbody>\n",
       "    <tr>\n",
       "      <th>0</th>\n",
       "      <td>KS</td>\n",
       "      <td>128</td>\n",
       "      <td>415</td>\n",
       "      <td>382-4657</td>\n",
       "      <td>no</td>\n",
       "      <td>yes</td>\n",
       "      <td>25</td>\n",
       "      <td>265.1</td>\n",
       "      <td>110</td>\n",
       "      <td>45.07</td>\n",
       "      <td>197.4</td>\n",
       "      <td>99</td>\n",
       "      <td>16.78</td>\n",
       "      <td>244.7</td>\n",
       "      <td>91</td>\n",
       "      <td>11.01</td>\n",
       "      <td>10.0</td>\n",
       "      <td>3</td>\n",
       "      <td>2.70</td>\n",
       "      <td>1</td>\n",
       "      <td>False.</td>\n",
       "    </tr>\n",
       "    <tr>\n",
       "      <th>1</th>\n",
       "      <td>OH</td>\n",
       "      <td>107</td>\n",
       "      <td>415</td>\n",
       "      <td>371-7191</td>\n",
       "      <td>no</td>\n",
       "      <td>yes</td>\n",
       "      <td>26</td>\n",
       "      <td>161.6</td>\n",
       "      <td>123</td>\n",
       "      <td>27.47</td>\n",
       "      <td>195.5</td>\n",
       "      <td>103</td>\n",
       "      <td>16.62</td>\n",
       "      <td>254.4</td>\n",
       "      <td>103</td>\n",
       "      <td>11.45</td>\n",
       "      <td>13.7</td>\n",
       "      <td>3</td>\n",
       "      <td>3.70</td>\n",
       "      <td>1</td>\n",
       "      <td>False.</td>\n",
       "    </tr>\n",
       "    <tr>\n",
       "      <th>2</th>\n",
       "      <td>NJ</td>\n",
       "      <td>137</td>\n",
       "      <td>415</td>\n",
       "      <td>358-1921</td>\n",
       "      <td>no</td>\n",
       "      <td>no</td>\n",
       "      <td>0</td>\n",
       "      <td>243.4</td>\n",
       "      <td>114</td>\n",
       "      <td>41.38</td>\n",
       "      <td>121.2</td>\n",
       "      <td>110</td>\n",
       "      <td>10.30</td>\n",
       "      <td>162.6</td>\n",
       "      <td>104</td>\n",
       "      <td>7.32</td>\n",
       "      <td>12.2</td>\n",
       "      <td>5</td>\n",
       "      <td>3.29</td>\n",
       "      <td>0</td>\n",
       "      <td>False.</td>\n",
       "    </tr>\n",
       "    <tr>\n",
       "      <th>3</th>\n",
       "      <td>OH</td>\n",
       "      <td>84</td>\n",
       "      <td>408</td>\n",
       "      <td>375-9999</td>\n",
       "      <td>yes</td>\n",
       "      <td>no</td>\n",
       "      <td>0</td>\n",
       "      <td>299.4</td>\n",
       "      <td>71</td>\n",
       "      <td>50.90</td>\n",
       "      <td>61.9</td>\n",
       "      <td>88</td>\n",
       "      <td>5.26</td>\n",
       "      <td>196.9</td>\n",
       "      <td>89</td>\n",
       "      <td>8.86</td>\n",
       "      <td>6.6</td>\n",
       "      <td>7</td>\n",
       "      <td>1.78</td>\n",
       "      <td>2</td>\n",
       "      <td>False.</td>\n",
       "    </tr>\n",
       "    <tr>\n",
       "      <th>4</th>\n",
       "      <td>OK</td>\n",
       "      <td>75</td>\n",
       "      <td>415</td>\n",
       "      <td>330-6626</td>\n",
       "      <td>yes</td>\n",
       "      <td>no</td>\n",
       "      <td>0</td>\n",
       "      <td>166.7</td>\n",
       "      <td>113</td>\n",
       "      <td>28.34</td>\n",
       "      <td>148.3</td>\n",
       "      <td>122</td>\n",
       "      <td>12.61</td>\n",
       "      <td>186.9</td>\n",
       "      <td>121</td>\n",
       "      <td>8.41</td>\n",
       "      <td>10.1</td>\n",
       "      <td>3</td>\n",
       "      <td>2.73</td>\n",
       "      <td>3</td>\n",
       "      <td>False.</td>\n",
       "    </tr>\n",
       "  </tbody>\n",
       "</table>\n",
       "</div>"
      ],
      "text/plain": [
       "  State  Account Length  Area Code     Phone Int'l Plan VMail Plan  \\\n",
       "0    KS             128        415  382-4657         no        yes   \n",
       "1    OH             107        415  371-7191         no        yes   \n",
       "2    NJ             137        415  358-1921         no         no   \n",
       "3    OH              84        408  375-9999        yes         no   \n",
       "4    OK              75        415  330-6626        yes         no   \n",
       "\n",
       "   VMail Message  Day Mins  Day Calls  Day Charge  Eve Mins  Eve Calls  \\\n",
       "0             25     265.1        110       45.07     197.4         99   \n",
       "1             26     161.6        123       27.47     195.5        103   \n",
       "2              0     243.4        114       41.38     121.2        110   \n",
       "3              0     299.4         71       50.90      61.9         88   \n",
       "4              0     166.7        113       28.34     148.3        122   \n",
       "\n",
       "   Eve Charge  Night Mins  Night Calls  Night Charge  Intl Mins  Intl Calls  \\\n",
       "0       16.78       244.7           91         11.01       10.0           3   \n",
       "1       16.62       254.4          103         11.45       13.7           3   \n",
       "2       10.30       162.6          104          7.32       12.2           5   \n",
       "3        5.26       196.9           89          8.86        6.6           7   \n",
       "4       12.61       186.9          121          8.41       10.1           3   \n",
       "\n",
       "   Intl Charge  CustServ Calls  Churn?  \n",
       "0         2.70               1  False.  \n",
       "1         3.70               1  False.  \n",
       "2         3.29               0  False.  \n",
       "3         1.78               2  False.  \n",
       "4         2.73               3  False.  "
      ]
     },
     "execution_count": 104,
     "metadata": {},
     "output_type": "execute_result"
    }
   ],
   "source": [
    "churn = pd.read_csv('./Data sets/churn.txt')\n",
    "pd.set_option('display.max_columns', 500)\n",
    "churn.head()"
   ]
  },
  {
   "cell_type": "markdown",
   "metadata": {},
   "source": [
    "By modern standards, it’s a relatively small dataset, with only 3,333 records, where each record uses 21 attributes to describe the profile of a customer of an unknown US mobile operator. The attributes are:\n",
    "\n",
    "- `State`: the US state in which the customer resides, indicated by a two-letter abbreviation; for example, OH or NJ\n",
    "- `Account Length`: the number of days that this account has been active\n",
    "- `Area Code`: the three-digit area code of the corresponding customer’s phone number\n",
    "- `Phone`: the remaining seven-digit phone number\n",
    "- `Int’l Plan`: whether the customer has an international calling plan: yes/no\n",
    "- `VMail Plan`: whether the customer has a voice mail feature: yes/no\n",
    "- `VMail Message`: presumably the average number of voice mail messages per month\n",
    "- `Day Mins`: the total number of calling minutes used during the day\n",
    "- `Day Calls`: the total number of calls placed during the day\n",
    "- `Day Charge`: the billed cost of daytime calls\n",
    "- `Eve Mins, Eve Calls, Eve Charge`: the billed cost for calls placed during the evening\n",
    "- `Night Mins`, `Night Calls`, `Night Charge`: the billed cost for calls placed during nighttime\n",
    "- `Intl Mins`, `Intl Calls`, `Intl Charge`: the billed cost for international calls\n",
    "- `CustServ Calls`: the number of calls placed to Customer Service\n",
    "- `Churn?`: whether the customer left the service: true/false\n",
    "\n",
    "The last attribute, `Churn?`, is known as the target attribute–the attribute that we want the ML model to predict.  Because the target attribute is binary, our model will be performing binary prediction, also known as binary classification.\n",
    "\n",
    "Let's begin exploring the data:"
   ]
  },
  {
   "cell_type": "code",
   "execution_count": 179,
   "metadata": {},
   "outputs": [],
   "source": [
    "#churn.to_csv('Data sets/train.csv',header=None, index=False)"
   ]
  },
  {
   "cell_type": "code",
   "execution_count": 180,
   "metadata": {},
   "outputs": [
    {
     "name": "stdout",
     "output_type": "stream",
     "text": [
      "/home/ec2-user/SageMaker/xgboost_customer_churn_2020-02-13\n"
     ]
    }
   ],
   "source": [
    "!pwd"
   ]
  },
  {
   "cell_type": "markdown",
   "metadata": {},
   "source": [
    "And now let's split the data into training, validation, and test sets.  This will help prevent us from overfitting the model, and allow us to test the models accuracy on data it hasn't already seen."
   ]
  },
  {
   "cell_type": "code",
   "execution_count": 296,
   "metadata": {},
   "outputs": [],
   "source": [
    "train_data, validation_data, test_data = np.split(churn.sample(frac=1, random_state=1729), [int(0.7 * len(churn)), int(0.9 * len(churn))])\n",
    "train_data.to_csv('train.csv', header=False, index=False)\n",
    "validation_data.to_csv('validation.csv', header=False, index=False)\n",
    "test_data.drop('Churn?', axis=1).to_csv('test.csv', header=False, index=False)"
   ]
  },
  {
   "cell_type": "markdown",
   "metadata": {},
   "source": [
    "Now we'll upload these files to S3."
   ]
  },
  {
   "cell_type": "code",
   "execution_count": 297,
   "metadata": {},
   "outputs": [],
   "source": [
    "boto3.Session().resource('s3').Bucket(bucket).Object(os.path.join(prefix, 'rawtrain/train.csv')).upload_file('train.csv')\n",
    "boto3.Session().resource('s3').Bucket(bucket).Object(os.path.join(prefix, 'rawvalidation/validation.csv')).upload_file('validation.csv')\n",
    "boto3.Session().resource('s3').Bucket(bucket).Object(os.path.join(prefix, 'rawtest/test.csv')).upload_file('test.csv')\n"
   ]
  },
  {
   "cell_type": "code",
   "execution_count": 318,
   "metadata": {},
   "outputs": [],
   "source": [
    "s3_input_train = sagemaker.s3_input(s3_data='s3://{}/{}/rawtrain/'.format(bucket, prefix), content_type='csv')\n",
    "s3_input_validation = sagemaker.s3_input(s3_data='s3://{}/{}/rawvalidation/'.format(bucket, prefix), content_type='csv')\n",
    "s3_input_test = sagemaker.s3_input(s3_data='s3://{}/{}/rawtest/'.format(bucket, prefix), content_type='csv')"
   ]
  },
  {
   "cell_type": "markdown",
   "metadata": {},
   "source": [
    "## Train the transformer"
   ]
  },
  {
   "cell_type": "code",
   "execution_count": 359,
   "metadata": {},
   "outputs": [
    {
     "name": "stdout",
     "output_type": "stream",
     "text": [
      "Creating tmp6le8q1xn_algo-1-nezws_1 ... \n",
      "\u001b[1BAttaching to tmp6le8q1xn_algo-1-nezws_12mdone\u001b[0m\n",
      "\u001b[36malgo-1-nezws_1  |\u001b[0m 2020-02-16 05:45:30,143 sagemaker-containers INFO     Imported framework sagemaker_sklearn_container.training\n",
      "\u001b[36malgo-1-nezws_1  |\u001b[0m 2020-02-16 05:45:30,147 sagemaker-containers INFO     No GPUs detected (normal if no gpus installed)\n",
      "\u001b[36malgo-1-nezws_1  |\u001b[0m 2020-02-16 05:45:30,159 sagemaker_sklearn_container.training INFO     Invoking user training script.\n",
      "\u001b[36malgo-1-nezws_1  |\u001b[0m 2020-02-16 05:45:30,290 sagemaker-containers INFO     Module sk does not provide a setup.py. \n",
      "\u001b[36malgo-1-nezws_1  |\u001b[0m Generating setup.py\n",
      "\u001b[36malgo-1-nezws_1  |\u001b[0m 2020-02-16 05:45:30,290 sagemaker-containers INFO     Generating setup.cfg\n",
      "\u001b[36malgo-1-nezws_1  |\u001b[0m 2020-02-16 05:45:30,291 sagemaker-containers INFO     Generating MANIFEST.in\n",
      "\u001b[36malgo-1-nezws_1  |\u001b[0m 2020-02-16 05:45:30,291 sagemaker-containers INFO     Installing module with the following command:\n",
      "\u001b[36malgo-1-nezws_1  |\u001b[0m /miniconda3/bin/python -m pip install . \n",
      "\u001b[36malgo-1-nezws_1  |\u001b[0m Processing /opt/ml/code\n",
      "\u001b[36malgo-1-nezws_1  |\u001b[0m Building wheels for collected packages: sk\n",
      "\u001b[36malgo-1-nezws_1  |\u001b[0m   Building wheel for sk (setup.py) ... \u001b[?25ldone\n",
      "\u001b[36malgo-1-nezws_1  |\u001b[0m \u001b[?25h  Created wheel for sk: filename=sk-1.0.0-py2.py3-none-any.whl size=9655 sha256=a9a0f2e22c7141f9f138f5679f181c894606bfa8e45774b19a60a1ebb6413880\n",
      "\u001b[36malgo-1-nezws_1  |\u001b[0m   Stored in directory: /tmp/pip-ephem-wheel-cache-_f162hsq/wheels/35/24/16/37574d11bf9bde50616c67372a334f94fa8356bc7164af8ca3\n",
      "\u001b[36malgo-1-nezws_1  |\u001b[0m Successfully built sk\n",
      "\u001b[36malgo-1-nezws_1  |\u001b[0m Installing collected packages: sk\n",
      "\u001b[36malgo-1-nezws_1  |\u001b[0m Successfully installed sk-1.0.0\n",
      "\u001b[36malgo-1-nezws_1  |\u001b[0m 2020-02-16 05:45:31,588 sagemaker-containers INFO     No GPUs detected (normal if no gpus installed)\n",
      "\u001b[36malgo-1-nezws_1  |\u001b[0m 2020-02-16 05:45:31,602 sagemaker-containers INFO     Invoking user script\n",
      "\u001b[36malgo-1-nezws_1  |\u001b[0m \n",
      "\u001b[36malgo-1-nezws_1  |\u001b[0m Training Env:\n",
      "\u001b[36malgo-1-nezws_1  |\u001b[0m \n",
      "\u001b[36malgo-1-nezws_1  |\u001b[0m {\n",
      "\u001b[36malgo-1-nezws_1  |\u001b[0m     \"additional_framework_parameters\": {},\n",
      "\u001b[36malgo-1-nezws_1  |\u001b[0m     \"channel_input_dirs\": {\n",
      "\u001b[36malgo-1-nezws_1  |\u001b[0m         \"train\": \"/opt/ml/input/data/train\"\n",
      "\u001b[36malgo-1-nezws_1  |\u001b[0m     },\n",
      "\u001b[36malgo-1-nezws_1  |\u001b[0m     \"current_host\": \"algo-1-nezws\",\n",
      "\u001b[36malgo-1-nezws_1  |\u001b[0m     \"framework_module\": \"sagemaker_sklearn_container.training:main\",\n",
      "\u001b[36malgo-1-nezws_1  |\u001b[0m     \"hosts\": [\n",
      "\u001b[36malgo-1-nezws_1  |\u001b[0m         \"algo-1-nezws\"\n",
      "\u001b[36malgo-1-nezws_1  |\u001b[0m     ],\n",
      "\u001b[36malgo-1-nezws_1  |\u001b[0m     \"hyperparameters\": {},\n",
      "\u001b[36malgo-1-nezws_1  |\u001b[0m     \"input_config_dir\": \"/opt/ml/input/config\",\n",
      "\u001b[36malgo-1-nezws_1  |\u001b[0m     \"input_data_config\": {\n",
      "\u001b[36malgo-1-nezws_1  |\u001b[0m         \"train\": {\n",
      "\u001b[36malgo-1-nezws_1  |\u001b[0m             \"TrainingInputMode\": \"File\",\n",
      "\u001b[36malgo-1-nezws_1  |\u001b[0m             \"ContentType\": \"csv\"\n",
      "\u001b[36malgo-1-nezws_1  |\u001b[0m         }\n",
      "\u001b[36malgo-1-nezws_1  |\u001b[0m     },\n",
      "\u001b[36malgo-1-nezws_1  |\u001b[0m     \"input_dir\": \"/opt/ml/input\",\n",
      "\u001b[36malgo-1-nezws_1  |\u001b[0m     \"is_master\": true,\n",
      "\u001b[36malgo-1-nezws_1  |\u001b[0m     \"job_name\": \"sagemaker-scikit-learn-2020-02-16-05-45-27-683\",\n",
      "\u001b[36malgo-1-nezws_1  |\u001b[0m     \"log_level\": 20,\n",
      "\u001b[36malgo-1-nezws_1  |\u001b[0m     \"master_hostname\": \"algo-1-nezws\",\n",
      "\u001b[36malgo-1-nezws_1  |\u001b[0m     \"model_dir\": \"/opt/ml/model\",\n",
      "\u001b[36malgo-1-nezws_1  |\u001b[0m     \"module_dir\": \"s3://sagemaker-us-east-2-079329190341/sagemaker-scikit-learn-2020-02-16-05-45-27-683/source/sourcedir.tar.gz\",\n",
      "\u001b[36malgo-1-nezws_1  |\u001b[0m     \"module_name\": \"sk\",\n",
      "\u001b[36malgo-1-nezws_1  |\u001b[0m     \"network_interface_name\": \"eth0\",\n",
      "\u001b[36malgo-1-nezws_1  |\u001b[0m     \"num_cpus\": 2,\n",
      "\u001b[36malgo-1-nezws_1  |\u001b[0m     \"num_gpus\": 0,\n",
      "\u001b[36malgo-1-nezws_1  |\u001b[0m     \"output_data_dir\": \"/opt/ml/output/data\",\n",
      "\u001b[36malgo-1-nezws_1  |\u001b[0m     \"output_dir\": \"/opt/ml/output\",\n",
      "\u001b[36malgo-1-nezws_1  |\u001b[0m     \"output_intermediate_dir\": \"/opt/ml/output/intermediate\",\n",
      "\u001b[36malgo-1-nezws_1  |\u001b[0m     \"resource_config\": {\n",
      "\u001b[36malgo-1-nezws_1  |\u001b[0m         \"current_host\": \"algo-1-nezws\",\n",
      "\u001b[36malgo-1-nezws_1  |\u001b[0m         \"hosts\": [\n",
      "\u001b[36malgo-1-nezws_1  |\u001b[0m             \"algo-1-nezws\"\n",
      "\u001b[36malgo-1-nezws_1  |\u001b[0m         ]\n",
      "\u001b[36malgo-1-nezws_1  |\u001b[0m     },\n",
      "\u001b[36malgo-1-nezws_1  |\u001b[0m     \"user_entry_point\": \"sk.py\"\n",
      "\u001b[36malgo-1-nezws_1  |\u001b[0m }\n",
      "\u001b[36malgo-1-nezws_1  |\u001b[0m \n",
      "\u001b[36malgo-1-nezws_1  |\u001b[0m Environment variables:\n",
      "\u001b[36malgo-1-nezws_1  |\u001b[0m \n",
      "\u001b[36malgo-1-nezws_1  |\u001b[0m SM_HOSTS=[\"algo-1-nezws\"]\n",
      "\u001b[36malgo-1-nezws_1  |\u001b[0m SM_NETWORK_INTERFACE_NAME=eth0\n",
      "\u001b[36malgo-1-nezws_1  |\u001b[0m SM_HPS={}\n",
      "\u001b[36malgo-1-nezws_1  |\u001b[0m SM_USER_ENTRY_POINT=sk.py\n",
      "\u001b[36malgo-1-nezws_1  |\u001b[0m SM_FRAMEWORK_PARAMS={}\n",
      "\u001b[36malgo-1-nezws_1  |\u001b[0m SM_RESOURCE_CONFIG={\"current_host\":\"algo-1-nezws\",\"hosts\":[\"algo-1-nezws\"]}\n",
      "\u001b[36malgo-1-nezws_1  |\u001b[0m SM_INPUT_DATA_CONFIG={\"train\":{\"ContentType\":\"csv\",\"TrainingInputMode\":\"File\"}}\n",
      "\u001b[36malgo-1-nezws_1  |\u001b[0m SM_OUTPUT_DATA_DIR=/opt/ml/output/data\n",
      "\u001b[36malgo-1-nezws_1  |\u001b[0m SM_CHANNELS=[\"train\"]\n",
      "\u001b[36malgo-1-nezws_1  |\u001b[0m SM_CURRENT_HOST=algo-1-nezws\n",
      "\u001b[36malgo-1-nezws_1  |\u001b[0m SM_MODULE_NAME=sk\n",
      "\u001b[36malgo-1-nezws_1  |\u001b[0m SM_LOG_LEVEL=20\n",
      "\u001b[36malgo-1-nezws_1  |\u001b[0m SM_FRAMEWORK_MODULE=sagemaker_sklearn_container.training:main\n",
      "\u001b[36malgo-1-nezws_1  |\u001b[0m SM_INPUT_DIR=/opt/ml/input\n",
      "\u001b[36malgo-1-nezws_1  |\u001b[0m SM_INPUT_CONFIG_DIR=/opt/ml/input/config\n",
      "\u001b[36malgo-1-nezws_1  |\u001b[0m SM_OUTPUT_DIR=/opt/ml/output\n",
      "\u001b[36malgo-1-nezws_1  |\u001b[0m SM_NUM_CPUS=2\n",
      "\u001b[36malgo-1-nezws_1  |\u001b[0m SM_NUM_GPUS=0\n",
      "\u001b[36malgo-1-nezws_1  |\u001b[0m SM_MODEL_DIR=/opt/ml/model\n",
      "\u001b[36malgo-1-nezws_1  |\u001b[0m SM_MODULE_DIR=s3://sagemaker-us-east-2-079329190341/sagemaker-scikit-learn-2020-02-16-05-45-27-683/source/sourcedir.tar.gz\n",
      "\u001b[36malgo-1-nezws_1  |\u001b[0m SM_TRAINING_ENV={\"additional_framework_parameters\":{},\"channel_input_dirs\":{\"train\":\"/opt/ml/input/data/train\"},\"current_host\":\"algo-1-nezws\",\"framework_module\":\"sagemaker_sklearn_container.training:main\",\"hosts\":[\"algo-1-nezws\"],\"hyperparameters\":{},\"input_config_dir\":\"/opt/ml/input/config\",\"input_data_config\":{\"train\":{\"ContentType\":\"csv\",\"TrainingInputMode\":\"File\"}},\"input_dir\":\"/opt/ml/input\",\"is_master\":true,\"job_name\":\"sagemaker-scikit-learn-2020-02-16-05-45-27-683\",\"log_level\":20,\"master_hostname\":\"algo-1-nezws\",\"model_dir\":\"/opt/ml/model\",\"module_dir\":\"s3://sagemaker-us-east-2-079329190341/sagemaker-scikit-learn-2020-02-16-05-45-27-683/source/sourcedir.tar.gz\",\"module_name\":\"sk\",\"network_interface_name\":\"eth0\",\"num_cpus\":2,\"num_gpus\":0,\"output_data_dir\":\"/opt/ml/output/data\",\"output_dir\":\"/opt/ml/output\",\"output_intermediate_dir\":\"/opt/ml/output/intermediate\",\"resource_config\":{\"current_host\":\"algo-1-nezws\",\"hosts\":[\"algo-1-nezws\"]},\"user_entry_point\":\"sk.py\"}\n",
      "\u001b[36malgo-1-nezws_1  |\u001b[0m SM_USER_ARGS=[]\n",
      "\u001b[36malgo-1-nezws_1  |\u001b[0m SM_OUTPUT_INTERMEDIATE_DIR=/opt/ml/output/intermediate\n",
      "\u001b[36malgo-1-nezws_1  |\u001b[0m SM_CHANNEL_TRAIN=/opt/ml/input/data/train\n",
      "\u001b[36malgo-1-nezws_1  |\u001b[0m PYTHONPATH=/miniconda3/bin:/miniconda3/lib/python37.zip:/miniconda3/lib/python3.7:/miniconda3/lib/python3.7/lib-dynload:/miniconda3/lib/python3.7/site-packages\n",
      "\u001b[36malgo-1-nezws_1  |\u001b[0m \n",
      "\u001b[36malgo-1-nezws_1  |\u001b[0m Invoking script with the following command:\n",
      "\u001b[36malgo-1-nezws_1  |\u001b[0m \n",
      "\u001b[36malgo-1-nezws_1  |\u001b[0m /miniconda3/bin/python -m sk\n",
      "\u001b[36malgo-1-nezws_1  |\u001b[0m \n",
      "\u001b[36malgo-1-nezws_1  |\u001b[0m \n",
      "\u001b[36malgo-1-nezws_1  |\u001b[0m /miniconda3/lib/python3.7/site-packages/sklearn/externals/joblib/externals/cloudpickle/cloudpickle.py:47: DeprecationWarning: the imp module is deprecated in favour of importlib; see the module's documentation for alternative uses\n",
      "\u001b[36malgo-1-nezws_1  |\u001b[0m   import imp\n",
      "\u001b[36malgo-1-nezws_1  |\u001b[0m saved model!\n",
      "\u001b[36malgo-1-nezws_1  |\u001b[0m 2020-02-16 05:45:32,747 sagemaker-containers INFO     Reporting training SUCCESS\n",
      "\u001b[36mtmp6le8q1xn_algo-1-nezws_1 exited with code 0\n",
      "\u001b[0mAborting on container exit...\n",
      "===== Job Complete =====\n"
     ]
    }
   ],
   "source": [
    "from sagemaker.sklearn.estimator import SKLearn\n",
    "sagemaker_session = sagemaker.Session()\n",
    "script_path = 'sk.py'\n",
    "\n",
    "sklearn_preprocessor = SKLearn(\n",
    "    entry_point=script_path,\n",
    "    role=role,\n",
    "    train_instance_type=\"local\")\n",
    "sklearn_preprocessor.fit({'train': s3_input_train})"
   ]
  },
  {
   "cell_type": "markdown",
   "metadata": {},
   "source": [
    "## Transform"
   ]
  },
  {
   "cell_type": "code",
   "execution_count": 360,
   "metadata": {},
   "outputs": [
    {
     "name": "stderr",
     "output_type": "stream",
     "text": [
      "WARNING:urllib3.connectionpool:Retrying (Retry(total=2, connect=None, read=None, redirect=None, status=None)) after connection broken by 'NewConnectionError('<urllib3.connection.HTTPConnection object at 0x7fdae4a2fb00>: Failed to establish a new connection: [Errno 111] Connection refused',)': /ping\n",
      "WARNING:urllib3.connectionpool:Retrying (Retry(total=1, connect=None, read=None, redirect=None, status=None)) after connection broken by 'NewConnectionError('<urllib3.connection.HTTPConnection object at 0x7fdae4a2f4a8>: Failed to establish a new connection: [Errno 111] Connection refused',)': /ping\n",
      "WARNING:urllib3.connectionpool:Retrying (Retry(total=0, connect=None, read=None, redirect=None, status=None)) after connection broken by 'NewConnectionError('<urllib3.connection.HTTPConnection object at 0x7fdaefc53470>: Failed to establish a new connection: [Errno 111] Connection refused',)': /ping\n"
     ]
    },
    {
     "name": "stdout",
     "output_type": "stream",
     "text": [
      "Attaching to tmp85l9u8jb_algo-1-yxnyv_1\n",
      "\u001b[36malgo-1-yxnyv_1  |\u001b[0m Processing /opt/ml/code\n",
      "\u001b[36malgo-1-yxnyv_1  |\u001b[0m Building wheels for collected packages: sk\n",
      "\u001b[36malgo-1-yxnyv_1  |\u001b[0m   Building wheel for sk (setup.py) ... \u001b[?25ldone\n",
      "\u001b[36malgo-1-yxnyv_1  |\u001b[0m \u001b[?25h  Created wheel for sk: filename=sk-1.0.0-py2.py3-none-any.whl size=9655 sha256=3b1c1fa14f70e9f545eed3a76583ea4f29f1100db1981ef7fc4e79969c3fa4d8\n",
      "\u001b[36malgo-1-yxnyv_1  |\u001b[0m   Stored in directory: /tmp/pip-ephem-wheel-cache-nosv0qsn/wheels/35/24/16/37574d11bf9bde50616c67372a334f94fa8356bc7164af8ca3\n",
      "\u001b[36malgo-1-yxnyv_1  |\u001b[0m Successfully built sk\n",
      "\u001b[36malgo-1-yxnyv_1  |\u001b[0m Installing collected packages: sk\n",
      "\u001b[36malgo-1-yxnyv_1  |\u001b[0m Successfully installed sk-1.0.0\n",
      "\u001b[36malgo-1-yxnyv_1  |\u001b[0m /miniconda3/lib/python3.7/site-packages/sklearn/externals/joblib/externals/cloudpickle/cloudpickle.py:47: DeprecationWarning: the imp module is deprecated in favour of importlib; see the module's documentation for alternative uses\n",
      "\u001b[36malgo-1-yxnyv_1  |\u001b[0m   import imp\n",
      "\u001b[36malgo-1-yxnyv_1  |\u001b[0m [2020-02-16 05:45:47 +0000] [30] [INFO] Starting gunicorn 19.9.0\n",
      "\u001b[36malgo-1-yxnyv_1  |\u001b[0m [2020-02-16 05:45:47 +0000] [30] [INFO] Listening at: unix:/tmp/gunicorn.sock (30)\n",
      "\u001b[36malgo-1-yxnyv_1  |\u001b[0m [2020-02-16 05:45:47 +0000] [30] [INFO] Using worker: gevent\n",
      "\u001b[36malgo-1-yxnyv_1  |\u001b[0m [2020-02-16 05:45:47 +0000] [33] [INFO] Booting worker with pid: 33\n",
      "\u001b[36malgo-1-yxnyv_1  |\u001b[0m [2020-02-16 05:45:47 +0000] [34] [INFO] Booting worker with pid: 34\n",
      "\u001b[36malgo-1-yxnyv_1  |\u001b[0m 2020-02-16 05:45:49,135 INFO - sagemaker-containers - No GPUs detected (normal if no gpus installed)\n",
      "\u001b[36malgo-1-yxnyv_1  |\u001b[0m /miniconda3/lib/python3.7/site-packages/sklearn/externals/joblib/externals/cloudpickle/cloudpickle.py:47: DeprecationWarning: the imp module is deprecated in favour of importlib; see the module's documentation for alternative uses\n",
      "\u001b[36malgo-1-yxnyv_1  |\u001b[0m   import imp\n",
      "\u001b[36malgo-1-yxnyv_1  |\u001b[0m 172.18.0.1 - - [16/Feb/2020:05:45:49 +0000] \"GET /ping HTTP/1.1\" 200 0 \"-\" \"-\"\n",
      "\u001b[36malgo-1-yxnyv_1  |\u001b[0m 172.18.0.1 - - [16/Feb/2020:05:45:49 +0000] \"GET /execution-parameters HTTP/1.1\" 404 232 \"-\" \"-\"\n",
      "\u001b[36malgo-1-yxnyv_1  |\u001b[0m ====================\n",
      "\u001b[36malgo-1-yxnyv_1  |\u001b[0m    0   ...      20\n",
      "\u001b[36malgo-1-yxnyv_1  |\u001b[0m 0  ID  ...  False.\n",
      "\u001b[36malgo-1-yxnyv_1  |\u001b[0m 1  WY  ...  False.\n",
      "\u001b[36malgo-1-yxnyv_1  |\u001b[0m 2  NV  ...   True.\n",
      "\u001b[36malgo-1-yxnyv_1  |\u001b[0m 3  OR  ...  False.\n",
      "\u001b[36malgo-1-yxnyv_1  |\u001b[0m 4  NJ  ...  False.\n",
      "\u001b[36malgo-1-yxnyv_1  |\u001b[0m \n",
      "\u001b[36malgo-1-yxnyv_1  |\u001b[0m [5 rows x 21 columns]\n",
      "\u001b[36malgo-1-yxnyv_1  |\u001b[0m 21\n",
      "\u001b[36malgo-1-yxnyv_1  |\u001b[0m ====================\n",
      "\u001b[36malgo-1-yxnyv_1  |\u001b[0m +++++++++++\n",
      "\u001b[36malgo-1-yxnyv_1  |\u001b[0m <class 'numpy.ndarray'>\n",
      "\u001b[36malgo-1-yxnyv_1  |\u001b[0m text/csv\n",
      "\u001b[36malgo-1-yxnyv_1  |\u001b[0m [[ 0.          0.1194137  -0.59623803 ...  0.          1.\n",
      "\u001b[36malgo-1-yxnyv_1  |\u001b[0m    0.        ]\n",
      "\u001b[36malgo-1-yxnyv_1  |\u001b[0m  [ 0.         -1.85265164 -0.59623803 ...  0.          1.\n",
      "\u001b[36malgo-1-yxnyv_1  |\u001b[0m    0.        ]\n",
      "\u001b[36malgo-1-yxnyv_1  |\u001b[0m  [ 1.          1.18129503 -0.59623803 ...  0.          1.\n",
      "\u001b[36malgo-1-yxnyv_1  |\u001b[0m    0.        ]\n",
      "\u001b[36malgo-1-yxnyv_1  |\u001b[0m  ...\n",
      "\u001b[36malgo-1-yxnyv_1  |\u001b[0m  [ 0.          0.70092014 -0.59623803 ...  0.          1.\n",
      "\u001b[36malgo-1-yxnyv_1  |\u001b[0m    0.        ]\n",
      "\u001b[36malgo-1-yxnyv_1  |\u001b[0m  [ 0.          1.45940681 -0.59623803 ...  0.          1.\n",
      "\u001b[36malgo-1-yxnyv_1  |\u001b[0m    0.        ]\n",
      "\u001b[36malgo-1-yxnyv_1  |\u001b[0m  [ 0.         -0.05756653  1.79907451 ...  0.          0.\n",
      "\u001b[36malgo-1-yxnyv_1  |\u001b[0m    1.        ]]\n",
      "\u001b[36malgo-1-yxnyv_1  |\u001b[0m 172.18.0.1 - - [16/Feb/2020:05:45:49 +0000] \"POST /invocations HTTP/1.1\" 200 1054525 \"-\" \"-\"\n",
      "Gracefully stopping... (press Ctrl+C again to force)\n",
      "Waiting for transform job: sagemaker-scikit-learn-2020-02-16-05-45-43-945\n",
      ".s3://demo-saeed-ohio/sagemaker/DEMO-xgboost-churn/transformtrain-train-output/sagemaker-scikit-learn-2020-02-16-05-45-43-945\n"
     ]
    }
   ],
   "source": [
    "# Define a SKLearn Transformer from the trained SKLearn Estimator\n",
    "transform_output_path = 's3://{}/{}/{}/'.format(bucket, prefix, 'transformtrain-train-output')\n",
    "transformer_train = sklearn_preprocessor.transformer(\n",
    "    instance_count=1, \n",
    "    instance_type='local',\n",
    "    assemble_with = 'Line',\n",
    "    output_path = transform_output_path,\n",
    "    accept = 'text/csv')\n",
    "# Preprocess training input\n",
    "transformer_train.transform('s3://demo-saeed-ohio/sagemaker/DEMO-xgboost-churn/rawtrain/train.csv', content_type='text/csv')\n",
    "print('Waiting for transform job: ' + transformer_train.latest_transform_job.job_name)\n",
    "transformer_train.wait()\n",
    "preprocessed_train_path = transformer_train.output_path+transformer_train.latest_transform_job.job_name\n",
    "print(preprocessed_train_path)\n"
   ]
  },
  {
   "cell_type": "code",
   "execution_count": 361,
   "metadata": {},
   "outputs": [
    {
     "name": "stderr",
     "output_type": "stream",
     "text": [
      "WARNING:urllib3.connectionpool:Retrying (Retry(total=2, connect=None, read=None, redirect=None, status=None)) after connection broken by 'NewConnectionError('<urllib3.connection.HTTPConnection object at 0x7fdae4d62e80>: Failed to establish a new connection: [Errno 111] Connection refused',)': /ping\n",
      "WARNING:urllib3.connectionpool:Retrying (Retry(total=1, connect=None, read=None, redirect=None, status=None)) after connection broken by 'NewConnectionError('<urllib3.connection.HTTPConnection object at 0x7fdae4d62ba8>: Failed to establish a new connection: [Errno 111] Connection refused',)': /ping\n",
      "WARNING:urllib3.connectionpool:Retrying (Retry(total=0, connect=None, read=None, redirect=None, status=None)) after connection broken by 'NewConnectionError('<urllib3.connection.HTTPConnection object at 0x7fdae4d62cc0>: Failed to establish a new connection: [Errno 111] Connection refused',)': /ping\n"
     ]
    },
    {
     "name": "stdout",
     "output_type": "stream",
     "text": [
      "Attaching to tmpuy3_8fcc_algo-1-il81n_1\n",
      "\u001b[36malgo-1-il81n_1  |\u001b[0m Processing /opt/ml/code\n",
      "\u001b[36malgo-1-il81n_1  |\u001b[0m Building wheels for collected packages: sk\n",
      "\u001b[36malgo-1-il81n_1  |\u001b[0m   Building wheel for sk (setup.py) ... \u001b[?25ldone\n",
      "\u001b[36malgo-1-il81n_1  |\u001b[0m \u001b[?25h  Created wheel for sk: filename=sk-1.0.0-py2.py3-none-any.whl size=9654 sha256=164879adc3d5fa00617de6223b9bfb8a84fcb7315aef8ef26857adc83df64ed5\n",
      "\u001b[36malgo-1-il81n_1  |\u001b[0m   Stored in directory: /tmp/pip-ephem-wheel-cache-wwglbasg/wheels/35/24/16/37574d11bf9bde50616c67372a334f94fa8356bc7164af8ca3\n",
      "\u001b[36malgo-1-il81n_1  |\u001b[0m Successfully built sk\n",
      "\u001b[36malgo-1-il81n_1  |\u001b[0m Installing collected packages: sk\n",
      "\u001b[36malgo-1-il81n_1  |\u001b[0m Successfully installed sk-1.0.0\n",
      "\u001b[36malgo-1-il81n_1  |\u001b[0m /miniconda3/lib/python3.7/site-packages/sklearn/externals/joblib/externals/cloudpickle/cloudpickle.py:47: DeprecationWarning: the imp module is deprecated in favour of importlib; see the module's documentation for alternative uses\n",
      "\u001b[36malgo-1-il81n_1  |\u001b[0m   import imp\n",
      "\u001b[36malgo-1-il81n_1  |\u001b[0m [2020-02-16 05:46:06 +0000] [30] [INFO] Starting gunicorn 19.9.0\n",
      "\u001b[36malgo-1-il81n_1  |\u001b[0m [2020-02-16 05:46:06 +0000] [30] [INFO] Listening at: unix:/tmp/gunicorn.sock (30)\n",
      "\u001b[36malgo-1-il81n_1  |\u001b[0m [2020-02-16 05:46:06 +0000] [30] [INFO] Using worker: gevent\n",
      "\u001b[36malgo-1-il81n_1  |\u001b[0m [2020-02-16 05:46:06 +0000] [33] [INFO] Booting worker with pid: 33\n",
      "\u001b[36malgo-1-il81n_1  |\u001b[0m [2020-02-16 05:46:06 +0000] [35] [INFO] Booting worker with pid: 35\n",
      "\u001b[36malgo-1-il81n_1  |\u001b[0m 2020-02-16 05:46:07,785 INFO - sagemaker-containers - No GPUs detected (normal if no gpus installed)\n",
      "\u001b[36malgo-1-il81n_1  |\u001b[0m /miniconda3/lib/python3.7/site-packages/sklearn/externals/joblib/externals/cloudpickle/cloudpickle.py:47: DeprecationWarning: the imp module is deprecated in favour of importlib; see the module's documentation for alternative uses\n",
      "\u001b[36malgo-1-il81n_1  |\u001b[0m   import imp\n",
      "\u001b[36malgo-1-il81n_1  |\u001b[0m 172.18.0.1 - - [16/Feb/2020:05:46:08 +0000] \"GET /ping HTTP/1.1\" 200 0 \"-\" \"-\"\n",
      "\u001b[36malgo-1-il81n_1  |\u001b[0m 2020-02-16 05:46:08,244 INFO - sagemaker-containers - No GPUs detected (normal if no gpus installed)\n",
      "\u001b[36malgo-1-il81n_1  |\u001b[0m /miniconda3/lib/python3.7/site-packages/sklearn/externals/joblib/externals/cloudpickle/cloudpickle.py:47: DeprecationWarning: the imp module is deprecated in favour of importlib; see the module's documentation for alternative uses\n",
      "\u001b[36malgo-1-il81n_1  |\u001b[0m   import imp\n",
      "\u001b[36malgo-1-il81n_1  |\u001b[0m 172.18.0.1 - - [16/Feb/2020:05:46:08 +0000] \"GET /execution-parameters HTTP/1.1\" 404 232 \"-\" \"-\"\n",
      "\u001b[36malgo-1-il81n_1  |\u001b[0m ====================\n",
      "\u001b[36malgo-1-il81n_1  |\u001b[0m    0   ...      20\n",
      "\u001b[36malgo-1-il81n_1  |\u001b[0m 0  AL  ...  False.\n",
      "\u001b[36malgo-1-il81n_1  |\u001b[0m 1  SD  ...  False.\n",
      "\u001b[36malgo-1-il81n_1  |\u001b[0m 2  FL  ...  False.\n",
      "\u001b[36malgo-1-il81n_1  |\u001b[0m 3  IN  ...  False.\n",
      "\u001b[36malgo-1-il81n_1  |\u001b[0m 4  WV  ...  False.\n",
      "\u001b[36malgo-1-il81n_1  |\u001b[0m \n",
      "\u001b[36malgo-1-il81n_1  |\u001b[0m [5 rows x 21 columns]\n",
      "\u001b[36malgo-1-il81n_1  |\u001b[0m 21\n",
      "\u001b[36malgo-1-il81n_1  |\u001b[0m ====================\n",
      "\u001b[36malgo-1-il81n_1  |\u001b[0m +++++++++++\n",
      "\u001b[36malgo-1-il81n_1  |\u001b[0m <class 'numpy.ndarray'>\n",
      "\u001b[36malgo-1-il81n_1  |\u001b[0m text/csv\n",
      "\u001b[36malgo-1-il81n_1  |\u001b[0m [[ 0.         -1.37227675  1.43614836 ...  0.          0.\n",
      "\u001b[36malgo-1-il81n_1  |\u001b[0m    1.        ]\n",
      "\u001b[36malgo-1-il81n_1  |\u001b[0m  [ 0.         -1.80208586 -0.59623803 ...  0.          1.\n",
      "\u001b[36malgo-1-il81n_1  |\u001b[0m    0.        ]\n",
      "\u001b[36malgo-1-il81n_1  |\u001b[0m  [ 0.          0.1194137   1.72648928 ...  0.          0.\n",
      "\u001b[36malgo-1-il81n_1  |\u001b[0m    1.        ]\n",
      "\u001b[36malgo-1-il81n_1  |\u001b[0m  ...\n",
      "\u001b[36malgo-1-il81n_1  |\u001b[0m  [ 0.          0.27111103  1.58131882 ...  0.          0.\n",
      "\u001b[36malgo-1-il81n_1  |\u001b[0m    1.        ]\n",
      "\u001b[36malgo-1-il81n_1  |\u001b[0m  [ 0.         -0.7907703  -0.59623803 ...  0.          1.\n",
      "\u001b[36malgo-1-il81n_1  |\u001b[0m    0.        ]\n",
      "\u001b[36malgo-1-il81n_1  |\u001b[0m  [ 0.         -0.51265853  2.74268247 ...  0.          0.\n",
      "\u001b[36malgo-1-il81n_1  |\u001b[0m    1.        ]]\n",
      "\u001b[36malgo-1-il81n_1  |\u001b[0m 172.18.0.1 - - [16/Feb/2020:05:46:08 +0000] \"POST /invocations HTTP/1.1\" 200 300974 \"-\" \"-\"\n",
      "Gracefully stopping... (press Ctrl+C again to force)\n",
      "Waiting for transform job: sagemaker-scikit-learn-2020-02-16-05-46-02-593\n",
      ".s3://demo-saeed-ohio/sagemaker/DEMO-xgboost-churn/transformtrain-validation-output/sagemaker-scikit-learn-2020-02-16-05-46-02-593\n"
     ]
    }
   ],
   "source": [
    "# Define a SKLearn Transformer from the trained SKLearn Estimator\n",
    "transform_validation_output_path = 's3://{}/{}/{}/'.format(bucket, prefix, 'transformtrain-validation-output')\n",
    "transformer_validation = sklearn_preprocessor.transformer(\n",
    "    instance_count=1, \n",
    "    instance_type='local',\n",
    "    assemble_with = 'Line',\n",
    "    output_path = transform_validation_output_path,\n",
    "    accept = 'text/csv')\n",
    "# Preprocess training input\n",
    "transformer_validation.transform('s3://demo-saeed-ohio/sagemaker/DEMO-xgboost-churn/rawvalidation/validation.csv', content_type='text/csv')\n",
    "print('Waiting for transform job: ' + transformer_validation.latest_transform_job.job_name)\n",
    "transformer_validation.wait()\n",
    "preprocessed_validation_path = transformer_validation.output_path+transformer_validation.latest_transform_job.job_name\n",
    "print(preprocessed_validation_path)\n"
   ]
  },
  {
   "cell_type": "code",
   "execution_count": 362,
   "metadata": {},
   "outputs": [
    {
     "name": "stderr",
     "output_type": "stream",
     "text": [
      "WARNING:urllib3.connectionpool:Retrying (Retry(total=2, connect=None, read=None, redirect=None, status=None)) after connection broken by 'NewConnectionError('<urllib3.connection.HTTPConnection object at 0x7fdae4ef2400>: Failed to establish a new connection: [Errno 111] Connection refused',)': /ping\n",
      "WARNING:urllib3.connectionpool:Retrying (Retry(total=1, connect=None, read=None, redirect=None, status=None)) after connection broken by 'NewConnectionError('<urllib3.connection.HTTPConnection object at 0x7fdae65592b0>: Failed to establish a new connection: [Errno 111] Connection refused',)': /ping\n",
      "WARNING:urllib3.connectionpool:Retrying (Retry(total=0, connect=None, read=None, redirect=None, status=None)) after connection broken by 'NewConnectionError('<urllib3.connection.HTTPConnection object at 0x7fdae5cdc7b8>: Failed to establish a new connection: [Errno 111] Connection refused',)': /ping\n"
     ]
    },
    {
     "name": "stdout",
     "output_type": "stream",
     "text": [
      "Attaching to tmpuhx93sur_algo-1-3gncp_1\n",
      "\u001b[36malgo-1-3gncp_1  |\u001b[0m Processing /opt/ml/code\n",
      "\u001b[36malgo-1-3gncp_1  |\u001b[0m Building wheels for collected packages: sk\n",
      "\u001b[36malgo-1-3gncp_1  |\u001b[0m   Building wheel for sk (setup.py) ... \u001b[?25ldone\n",
      "\u001b[36malgo-1-3gncp_1  |\u001b[0m \u001b[?25h  Created wheel for sk: filename=sk-1.0.0-py2.py3-none-any.whl size=9653 sha256=a9ad067365af0c6f29b7a4227a5ca7851feca01874ac6798f53be2e4f47cbb23\n",
      "\u001b[36malgo-1-3gncp_1  |\u001b[0m   Stored in directory: /tmp/pip-ephem-wheel-cache-9n2usl8_/wheels/35/24/16/37574d11bf9bde50616c67372a334f94fa8356bc7164af8ca3\n",
      "\u001b[36malgo-1-3gncp_1  |\u001b[0m Successfully built sk\n",
      "\u001b[36malgo-1-3gncp_1  |\u001b[0m Installing collected packages: sk\n",
      "\u001b[36malgo-1-3gncp_1  |\u001b[0m Successfully installed sk-1.0.0\n",
      "\u001b[36malgo-1-3gncp_1  |\u001b[0m /miniconda3/lib/python3.7/site-packages/sklearn/externals/joblib/externals/cloudpickle/cloudpickle.py:47: DeprecationWarning: the imp module is deprecated in favour of importlib; see the module's documentation for alternative uses\n",
      "\u001b[36malgo-1-3gncp_1  |\u001b[0m   import imp\n",
      "\u001b[36malgo-1-3gncp_1  |\u001b[0m [2020-02-16 05:46:13 +0000] [30] [INFO] Starting gunicorn 19.9.0\n",
      "\u001b[36malgo-1-3gncp_1  |\u001b[0m [2020-02-16 05:46:13 +0000] [30] [INFO] Listening at: unix:/tmp/gunicorn.sock (30)\n",
      "\u001b[36malgo-1-3gncp_1  |\u001b[0m [2020-02-16 05:46:13 +0000] [30] [INFO] Using worker: gevent\n",
      "\u001b[36malgo-1-3gncp_1  |\u001b[0m [2020-02-16 05:46:13 +0000] [33] [INFO] Booting worker with pid: 33\n",
      "\u001b[36malgo-1-3gncp_1  |\u001b[0m [2020-02-16 05:46:13 +0000] [35] [INFO] Booting worker with pid: 35\n",
      "\u001b[36malgo-1-3gncp_1  |\u001b[0m 2020-02-16 05:46:14,907 INFO - sagemaker-containers - No GPUs detected (normal if no gpus installed)\n",
      "\u001b[36malgo-1-3gncp_1  |\u001b[0m /miniconda3/lib/python3.7/site-packages/sklearn/externals/joblib/externals/cloudpickle/cloudpickle.py:47: DeprecationWarning: the imp module is deprecated in favour of importlib; see the module's documentation for alternative uses\n",
      "\u001b[36malgo-1-3gncp_1  |\u001b[0m   import imp\n",
      "\u001b[36malgo-1-3gncp_1  |\u001b[0m 172.18.0.1 - - [16/Feb/2020:05:46:15 +0000] \"GET /ping HTTP/1.1\" 200 0 \"-\" \"-\"\n",
      "\u001b[36malgo-1-3gncp_1  |\u001b[0m 2020-02-16 05:46:15,381 INFO - sagemaker-containers - No GPUs detected (normal if no gpus installed)\n",
      "\u001b[36malgo-1-3gncp_1  |\u001b[0m /miniconda3/lib/python3.7/site-packages/sklearn/externals/joblib/externals/cloudpickle/cloudpickle.py:47: DeprecationWarning: the imp module is deprecated in favour of importlib; see the module's documentation for alternative uses\n",
      "\u001b[36malgo-1-3gncp_1  |\u001b[0m   import imp\n",
      "\u001b[36malgo-1-3gncp_1  |\u001b[0m 172.18.0.1 - - [16/Feb/2020:05:46:15 +0000] \"GET /execution-parameters HTTP/1.1\" 404 232 \"-\" \"-\"\n",
      "\u001b[36malgo-1-3gncp_1  |\u001b[0m ====================\n",
      "\u001b[36malgo-1-3gncp_1  |\u001b[0m    0   ...  19\n",
      "\u001b[36malgo-1-3gncp_1  |\u001b[0m 0  KS  ...   1\n",
      "\u001b[36malgo-1-3gncp_1  |\u001b[0m 1  MA  ...   2\n",
      "\u001b[36malgo-1-3gncp_1  |\u001b[0m 2  MA  ...   0\n",
      "\u001b[36malgo-1-3gncp_1  |\u001b[0m 3  FL  ...   0\n",
      "\u001b[36malgo-1-3gncp_1  |\u001b[0m 4  SC  ...   0\n",
      "\u001b[36malgo-1-3gncp_1  |\u001b[0m \n",
      "\u001b[36malgo-1-3gncp_1  |\u001b[0m [5 rows x 20 columns]\n",
      "\u001b[36malgo-1-3gncp_1  |\u001b[0m 20\n",
      "\u001b[36malgo-1-3gncp_1  |\u001b[0m ====================\n",
      "\u001b[36malgo-1-3gncp_1  |\u001b[0m +++++++++++\n",
      "\u001b[36malgo-1-3gncp_1  |\u001b[0m <class 'scipy.sparse.csr.csr_matrix'>\n",
      "\u001b[36malgo-1-3gncp_1  |\u001b[0m text/csv\n",
      "\u001b[36malgo-1-3gncp_1  |\u001b[0m [[ 2.14204481 -0.59623803 -0.78586232 ...  0.          1.\n",
      "\u001b[36malgo-1-3gncp_1  |\u001b[0m    0.        ]\n",
      "\u001b[36malgo-1-3gncp_1  |\u001b[0m  [ 0.77676881  1.21839268 -1.24152606 ...  0.          0.\n",
      "\u001b[36malgo-1-3gncp_1  |\u001b[0m    1.        ]\n",
      "\u001b[36malgo-1-3gncp_1  |\u001b[0m  [ 0.27111103  0.63771085  0.05507809 ...  0.          0.\n",
      "\u001b[36malgo-1-3gncp_1  |\u001b[0m    1.        ]\n",
      "\u001b[36malgo-1-3gncp_1  |\u001b[0m  ...\n",
      "\u001b[36malgo-1-3gncp_1  |\u001b[0m  [-0.38624408 -0.59623803 -0.25981149 ...  0.          1.\n",
      "\u001b[36malgo-1-3gncp_1  |\u001b[0m    0.        ]\n",
      "\u001b[36malgo-1-3gncp_1  |\u001b[0m  [-1.65038853  2.52492679 -2.78448499 ...  0.          0.\n",
      "\u001b[36malgo-1-3gncp_1  |\u001b[0m    1.        ]\n",
      "\u001b[36malgo-1-3gncp_1  |\u001b[0m  [ 0.54922281 -0.59623803 -0.31723253 ...  0.          1.\n",
      "\u001b[36malgo-1-3gncp_1  |\u001b[0m    0.        ]]\n",
      "\u001b[36malgo-1-3gncp_1  |\u001b[0m 172.18.0.1 - - [16/Feb/2020:05:46:15 +0000] \"POST /invocations HTTP/1.1\" 200 149634 \"-\" \"-\"\n",
      "Gracefully stopping... (press Ctrl+C again to force)\n",
      "Waiting for transform job: sagemaker-scikit-learn-2020-02-16-05-46-09-714\n",
      ".s3://demo-saeed-ohio/sagemaker/DEMO-xgboost-churn/transformtrain-test-output/sagemaker-scikit-learn-2020-02-16-05-46-09-714\n"
     ]
    }
   ],
   "source": [
    "# Define a SKLearn Transformer from the trained SKLearn Estimator\n",
    "transform_test_output_path = 's3://{}/{}/{}/'.format(bucket, prefix, 'transformtrain-test-output')\n",
    "transformer_test = sklearn_preprocessor.transformer(\n",
    "    instance_count=1, \n",
    "    instance_type='local',\n",
    "    assemble_with = 'Line',\n",
    "    output_path = transform_test_output_path,\n",
    "    accept = 'text/csv')\n",
    "# Preprocess training input\n",
    "transformer_test.transform('s3://demo-saeed-ohio/sagemaker/DEMO-xgboost-churn/rawtest/test.csv', content_type='text/csv')\n",
    "print('Waiting for transform job: ' + transformer_test.latest_transform_job.job_name)\n",
    "transformer_test.wait()\n",
    "preprocessed_test_path = transformer_test.output_path+transformer_test.latest_transform_job.job_name\n",
    "print(preprocessed_test_path)\n"
   ]
  },
  {
   "cell_type": "markdown",
   "metadata": {},
   "source": [
    "---\n",
    "## Train\n",
    "\n",
    "Moving onto training, first we'll need to specify the locations of the XGBoost algorithm containers."
   ]
  },
  {
   "cell_type": "code",
   "execution_count": 311,
   "metadata": {},
   "outputs": [],
   "source": [
    "from sagemaker.amazon.amazon_estimator import get_image_uri\n",
    "container = get_image_uri(boto3.Session().region_name, 'xgboost', '0.90-1')"
   ]
  },
  {
   "cell_type": "markdown",
   "metadata": {},
   "source": [
    "Then, because we're training with the CSV file format, we'll create `s3_input`s that our training function can use as a pointer to the files in S3."
   ]
  },
  {
   "cell_type": "code",
   "execution_count": 347,
   "metadata": {},
   "outputs": [
    {
     "name": "stdout",
     "output_type": "stream",
     "text": [
      "{'DataSource': {'S3DataSource': {'S3DataType': 'S3Prefix', 'S3Uri': 's3://demo-saeed-ohio/sagemaker/DEMO-xgboost-churn/transformtrain-train-output/sagemaker-scikit-learn-2020-02-16-03-56-35-170', 'S3DataDistributionType': 'FullyReplicated'}}, 'ContentType': 'text/csv'}\n",
      "{'DataSource': {'S3DataSource': {'S3DataType': 'S3Prefix', 'S3Uri': 's3://demo-saeed-ohio/sagemaker/DEMO-xgboost-churn/transformtrain-validation-output/sagemaker-scikit-learn-2020-02-16-03-56-50-532', 'S3DataDistributionType': 'FullyReplicated'}}, 'ContentType': 'text/csv'}\n"
     ]
    }
   ],
   "source": [
    "s3_input_train_processed = sagemaker.session.s3_input(\n",
    "    preprocessed_train_path, \n",
    "    distribution='FullyReplicated',\n",
    "    content_type='text/csv', \n",
    "    s3_data_type='S3Prefix')\n",
    "print(s3_input_train_processed.config)\n",
    "s3_input_validation_processed = sagemaker.session.s3_input(\n",
    "    preprocessed_validation_path, \n",
    "    distribution='FullyReplicated',\n",
    "    content_type='text/csv', \n",
    "    s3_data_type='S3Prefix')\n",
    "print(s3_input_validation_processed.config)"
   ]
  },
  {
   "cell_type": "markdown",
   "metadata": {},
   "source": [
    "Now, we can specify a few parameters like what type of training instances we'd like to use and how many, as well as our XGBoost hyperparameters.  A few key hyperparameters are:\n",
    "- `max_depth` controls how deep each tree within the algorithm can be built.  Deeper trees can lead to better fit, but are more computationally expensive and can lead to overfitting.  There is typically some trade-off in model performance that needs to be explored between a large number of shallow trees and a smaller number of deeper trees.\n",
    "- `subsample` controls sampling of the training data.  This technique can help reduce overfitting, but setting it too low can also starve the model of data.\n",
    "- `num_round` controls the number of boosting rounds.  This is essentially the subsequent models that are trained using the residuals of previous iterations.  Again, more rounds should produce a better fit on the training data, but can be computationally expensive or lead to overfitting.\n",
    "- `eta` controls how aggressive each round of boosting is.  Larger values lead to more conservative boosting.\n",
    "- `gamma` controls how aggressively trees are grown.  Larger values lead to more conservative models.\n",
    "\n",
    "More detail on XGBoost's hyperparmeters can be found on their GitHub [page](https://github.com/dmlc/xgboost/blob/master/doc/parameter.md)."
   ]
  },
  {
   "cell_type": "code",
   "execution_count": 348,
   "metadata": {},
   "outputs": [
    {
     "name": "stdout",
     "output_type": "stream",
     "text": [
      "2020-02-16 03:58:09 Starting - Starting the training job...\n",
      "2020-02-16 03:58:10 Starting - Launching requested ML instances...\n",
      "2020-02-16 03:59:08 Starting - Preparing the instances for training.........\n",
      "2020-02-16 04:00:29 Downloading - Downloading input data\n",
      "2020-02-16 04:00:29 Training - Downloading the training image...\n",
      "2020-02-16 04:01:05 Uploading - Uploading generated training model.\u001b[34mINFO:sagemaker-containers:Imported framework sagemaker_xgboost_container.training\u001b[0m\n",
      "\u001b[34mINFO:sagemaker-containers:Failed to parse hyperparameter objective value binary:logistic to Json.\u001b[0m\n",
      "\u001b[34mReturning the value itself\u001b[0m\n",
      "\u001b[34mINFO:sagemaker-containers:No GPUs detected (normal if no gpus installed)\u001b[0m\n",
      "\u001b[34mINFO:sagemaker_xgboost_container.training:Running XGBoost Sagemaker in algorithm mode\u001b[0m\n",
      "\u001b[34mINFO:root:Determined delimiter of CSV input is ','\u001b[0m\n",
      "\u001b[34mINFO:root:Determined delimiter of CSV input is ','\u001b[0m\n",
      "\u001b[34mINFO:root:Determined delimiter of CSV input is ','\u001b[0m\n",
      "\u001b[34m[04:01:01] 2333x69 matrix with 160977 entries loaded from /opt/ml/input/data/train?format=csv&label_column=0&delimiter=,\u001b[0m\n",
      "\u001b[34mINFO:root:Determined delimiter of CSV input is ','\u001b[0m\n",
      "\u001b[34m[04:01:01] 666x69 matrix with 45954 entries loaded from /opt/ml/input/data/validation?format=csv&label_column=0&delimiter=,\u001b[0m\n",
      "\u001b[34mINFO:root:Single node training.\u001b[0m\n",
      "\u001b[34mINFO:root:Train matrix has 2333 rows\u001b[0m\n",
      "\u001b[34mINFO:root:Validation matrix has 666 rows\u001b[0m\n",
      "\u001b[34m[0]#011train-error:0.077154#011validation-error:0.099099\u001b[0m\n",
      "\u001b[34m[1]#011train-error:0.050579#011validation-error:0.081081\u001b[0m\n",
      "\u001b[34m[2]#011train-error:0.048864#011validation-error:0.075075\u001b[0m\n",
      "\u001b[34m[3]#011train-error:0.046721#011validation-error:0.072072\u001b[0m\n",
      "\u001b[34m[4]#011train-error:0.048007#011validation-error:0.073574\u001b[0m\n",
      "\u001b[34m[5]#011train-error:0.046721#011validation-error:0.070571\u001b[0m\n",
      "\u001b[34m[6]#011train-error:0.045435#011validation-error:0.073574\u001b[0m\n",
      "\u001b[34m[7]#011train-error:0.043721#011validation-error:0.069069\u001b[0m\n",
      "\u001b[34m[8]#011train-error:0.045006#011validation-error:0.069069\u001b[0m\n",
      "\u001b[34m[9]#011train-error:0.042435#011validation-error:0.066066\u001b[0m\n",
      "\u001b[34m[10]#011train-error:0.040291#011validation-error:0.064565\u001b[0m\n",
      "\u001b[34m[11]#011train-error:0.039006#011validation-error:0.067568\u001b[0m\n",
      "\u001b[34m[12]#011train-error:0.038577#011validation-error:0.064565\u001b[0m\n",
      "\u001b[34m[13]#011train-error:0.03772#011validation-error:0.064565\u001b[0m\n",
      "\u001b[34m[14]#011train-error:0.03772#011validation-error:0.066066\u001b[0m\n",
      "\u001b[34m[15]#011train-error:0.039434#011validation-error:0.067568\u001b[0m\n",
      "\u001b[34m[16]#011train-error:0.038577#011validation-error:0.063063\u001b[0m\n",
      "\u001b[34m[17]#011train-error:0.03772#011validation-error:0.064565\u001b[0m\n",
      "\u001b[34m[18]#011train-error:0.039434#011validation-error:0.063063\u001b[0m\n",
      "\u001b[34m[19]#011train-error:0.039863#011validation-error:0.06006\u001b[0m\n",
      "\u001b[34m[20]#011train-error:0.039434#011validation-error:0.063063\u001b[0m\n",
      "\u001b[34m[21]#011train-error:0.038577#011validation-error:0.063063\u001b[0m\n",
      "\u001b[34m[22]#011train-error:0.038148#011validation-error:0.066066\u001b[0m\n",
      "\u001b[34m[23]#011train-error:0.036862#011validation-error:0.067568\u001b[0m\n",
      "\u001b[34m[24]#011train-error:0.036005#011validation-error:0.067568\u001b[0m\n",
      "\u001b[34m[25]#011train-error:0.034291#011validation-error:0.067568\u001b[0m\n",
      "\u001b[34m[26]#011train-error:0.033862#011validation-error:0.069069\u001b[0m\n",
      "\u001b[34m[27]#011train-error:0.033862#011validation-error:0.069069\u001b[0m\n",
      "\u001b[34m[28]#011train-error:0.033862#011validation-error:0.067568\u001b[0m\n",
      "\u001b[34m[29]#011train-error:0.033862#011validation-error:0.072072\u001b[0m\n",
      "\u001b[34m[30]#011train-error:0.033862#011validation-error:0.070571\u001b[0m\n",
      "\u001b[34m[31]#011train-error:0.034291#011validation-error:0.072072\u001b[0m\n",
      "\u001b[34m[32]#011train-error:0.034719#011validation-error:0.070571\u001b[0m\n",
      "\u001b[34m[33]#011train-error:0.034719#011validation-error:0.069069\u001b[0m\n",
      "\u001b[34m[34]#011train-error:0.033005#011validation-error:0.069069\u001b[0m\n",
      "\u001b[34m[35]#011train-error:0.033862#011validation-error:0.069069\u001b[0m\n",
      "\u001b[34m[36]#011train-error:0.033862#011validation-error:0.069069\u001b[0m\n",
      "\u001b[34m[37]#011train-error:0.033005#011validation-error:0.067568\u001b[0m\n",
      "\u001b[34m[38]#011train-error:0.033433#011validation-error:0.067568\u001b[0m\n",
      "\u001b[34m[39]#011train-error:0.033005#011validation-error:0.067568\u001b[0m\n",
      "\u001b[34m[40]#011train-error:0.031719#011validation-error:0.069069\u001b[0m\n",
      "\u001b[34m[41]#011train-error:0.031719#011validation-error:0.069069\u001b[0m\n",
      "\u001b[34m[42]#011train-error:0.030862#011validation-error:0.069069\u001b[0m\n",
      "\u001b[34m[43]#011train-error:0.03129#011validation-error:0.069069\u001b[0m\n",
      "\u001b[34m[44]#011train-error:0.030862#011validation-error:0.067568\u001b[0m\n",
      "\u001b[34m[45]#011train-error:0.03129#011validation-error:0.067568\u001b[0m\n",
      "\u001b[34m[46]#011train-error:0.030862#011validation-error:0.066066\u001b[0m\n",
      "\u001b[34m[47]#011train-error:0.030862#011validation-error:0.066066\u001b[0m\n",
      "\u001b[34m[48]#011train-error:0.030433#011validation-error:0.066066\u001b[0m\n",
      "\u001b[34m[49]#011train-error:0.030004#011validation-error:0.067568\u001b[0m\n",
      "\u001b[34m[50]#011train-error:0.030004#011validation-error:0.067568\u001b[0m\n",
      "\u001b[34m[51]#011train-error:0.030004#011validation-error:0.066066\u001b[0m\n",
      "\u001b[34m[52]#011train-error:0.030004#011validation-error:0.066066\u001b[0m\n",
      "\u001b[34m[53]#011train-error:0.030004#011validation-error:0.066066\u001b[0m\n",
      "\u001b[34m[54]#011train-error:0.030004#011validation-error:0.066066\u001b[0m\n",
      "\u001b[34m[55]#011train-error:0.030433#011validation-error:0.067568\u001b[0m\n",
      "\u001b[34m[56]#011train-error:0.030433#011validation-error:0.067568\u001b[0m\n",
      "\u001b[34m[57]#011train-error:0.030433#011validation-error:0.067568\u001b[0m\n",
      "\u001b[34m[58]#011train-error:0.030433#011validation-error:0.067568\u001b[0m\n",
      "\u001b[34m[59]#011train-error:0.030433#011validation-error:0.067568\u001b[0m\n",
      "\u001b[34m[60]#011train-error:0.030433#011validation-error:0.067568\u001b[0m\n",
      "\u001b[34m[61]#011train-error:0.030433#011validation-error:0.067568\u001b[0m\n",
      "\u001b[34m[62]#011train-error:0.030433#011validation-error:0.067568\u001b[0m\n",
      "\u001b[34m[63]#011train-error:0.030433#011validation-error:0.067568\u001b[0m\n",
      "\u001b[34m[64]#011train-error:0.030433#011validation-error:0.067568\u001b[0m\n",
      "\u001b[34m[65]#011train-error:0.030433#011validation-error:0.067568\u001b[0m\n",
      "\u001b[34m[66]#011train-error:0.030433#011validation-error:0.067568\u001b[0m\n",
      "\u001b[34m[67]#011train-error:0.030433#011validation-error:0.067568\u001b[0m\n",
      "\u001b[34m[68]#011train-error:0.029147#011validation-error:0.067568\u001b[0m\n",
      "\u001b[34m[69]#011train-error:0.029147#011validation-error:0.066066\u001b[0m\n",
      "\u001b[34m[70]#011train-error:0.029147#011validation-error:0.067568\u001b[0m\n",
      "\u001b[34m[71]#011train-error:0.028718#011validation-error:0.066066\u001b[0m\n",
      "\u001b[34m[72]#011train-error:0.029147#011validation-error:0.066066\u001b[0m\n",
      "\u001b[34m[73]#011train-error:0.029147#011validation-error:0.066066\u001b[0m\n",
      "\u001b[34m[74]#011train-error:0.029147#011validation-error:0.066066\u001b[0m\n",
      "\u001b[34m[75]#011train-error:0.029147#011validation-error:0.066066\u001b[0m\n",
      "\u001b[34m[76]#011train-error:0.029147#011validation-error:0.066066\u001b[0m\n",
      "\u001b[34m[77]#011train-error:0.029147#011validation-error:0.066066\u001b[0m\n",
      "\u001b[34m[78]#011train-error:0.029576#011validation-error:0.066066\u001b[0m\n",
      "\u001b[34m[79]#011train-error:0.030004#011validation-error:0.066066\u001b[0m\n",
      "\u001b[34m[80]#011train-error:0.029576#011validation-error:0.066066\u001b[0m\n",
      "\u001b[34m[81]#011train-error:0.02829#011validation-error:0.066066\u001b[0m\n",
      "\u001b[34m[82]#011train-error:0.02829#011validation-error:0.066066\u001b[0m\n",
      "\u001b[34m[83]#011train-error:0.02829#011validation-error:0.066066\u001b[0m\n",
      "\u001b[34m[84]#011train-error:0.027861#011validation-error:0.066066\u001b[0m\n",
      "\u001b[34m[85]#011train-error:0.027861#011validation-error:0.066066\u001b[0m\n",
      "\u001b[34m[86]#011train-error:0.027861#011validation-error:0.066066\u001b[0m\n",
      "\u001b[34m[87]#011train-error:0.027861#011validation-error:0.066066\u001b[0m\n",
      "\u001b[34m[88]#011train-error:0.02829#011validation-error:0.066066\u001b[0m\n",
      "\u001b[34m[89]#011train-error:0.02829#011validation-error:0.066066\u001b[0m\n",
      "\u001b[34m[90]#011train-error:0.027861#011validation-error:0.066066\u001b[0m\n",
      "\u001b[34m[91]#011train-error:0.027861#011validation-error:0.066066\u001b[0m\n",
      "\u001b[34m[92]#011train-error:0.02829#011validation-error:0.066066\u001b[0m\n",
      "\u001b[34m[93]#011train-error:0.027861#011validation-error:0.066066\u001b[0m\n",
      "\u001b[34m[94]#011train-error:0.027861#011validation-error:0.066066\u001b[0m\n",
      "\u001b[34m[95]#011train-error:0.027861#011validation-error:0.066066\u001b[0m\n",
      "\u001b[34m[96]#011train-error:0.02829#011validation-error:0.066066\u001b[0m\n",
      "\u001b[34m[97]#011train-error:0.02829#011validation-error:0.066066\u001b[0m\n",
      "\u001b[34m[98]#011train-error:0.02829#011validation-error:0.066066\u001b[0m\n",
      "\u001b[34m[99]#011train-error:0.02829#011validation-error:0.066066\u001b[0m\n",
      "\n",
      "2020-02-16 04:01:12 Completed - Training job completed\n",
      "Training seconds: 62\n",
      "Billable seconds: 62\n"
     ]
    }
   ],
   "source": [
    "sess = sagemaker.Session()\n",
    "\n",
    "xgb = sagemaker.estimator.Estimator(container,\n",
    "                                    role, \n",
    "                                    train_instance_count=1, \n",
    "                                    train_instance_type='ml.m4.xlarge',\n",
    "                                    output_path='s3://{}/{}/output'.format(bucket, prefix),\n",
    "                                    sagemaker_session=sess)\n",
    "xgb.set_hyperparameters(max_depth=5,\n",
    "                        eta=0.2,\n",
    "                        gamma=4,\n",
    "                        min_child_weight=6,\n",
    "                        subsample=0.8,\n",
    "                        silent=0,\n",
    "                        objective='binary:logistic',\n",
    "                        num_round=100)\n",
    "\n",
    "xgb.fit({'train': s3_input_train_processed, 'validation': s3_input_validation_processed}) "
   ]
  },
  {
   "cell_type": "code",
   "execution_count": 349,
   "metadata": {},
   "outputs": [],
   "source": [
    "transform_xgb_output_path = 's3://{}/{}/{}/'.format(bucket, prefix, 'transformtrain-xgb-output')\n",
    "\n",
    "# Define a SKLearn Transformer from the trained SKLearn Estimator\n",
    "xgb_transformer = xgb.transformer(\n",
    "    instance_count=1, \n",
    "    instance_type='ml.m4.xlarge',\n",
    "    output_path = transform_xgb_output_path,\n",
    "    assemble_with = 'Line',\n",
    "    accept = 'text/csv')"
   ]
  },
  {
   "cell_type": "code",
   "execution_count": 350,
   "metadata": {},
   "outputs": [
    {
     "name": "stdout",
     "output_type": "stream",
     "text": [
      "{'DataSource': {'S3DataSource': {'S3DataType': 'S3Prefix', 'S3Uri': 's3://demo-saeed-ohio/sagemaker/DEMO-xgboost-churn/transformtrain-test-output/sagemaker-scikit-learn-2020-02-16-03-57-08-395', 'S3DataDistributionType': 'FullyReplicated'}}, 'ContentType': 'text/csv'}\n"
     ]
    }
   ],
   "source": [
    "s3_input_test_processed = sagemaker.session.s3_input(\n",
    "    preprocessed_test_path, \n",
    "    distribution='FullyReplicated',\n",
    "    content_type='text/csv', \n",
    "    s3_data_type='S3Prefix')\n",
    "print(s3_input_test_processed.config)"
   ]
  },
  {
   "cell_type": "code",
   "execution_count": 352,
   "metadata": {},
   "outputs": [
    {
     "name": "stdout",
     "output_type": "stream",
     "text": [
      "Waiting for transform job: sagemaker-xgboost-2020-02-16-04-08-07-064\n",
      ".......................\u001b[34m[2020-02-16 04:11:40 +0000] [15] [INFO] Starting gunicorn 19.10.0\u001b[0m\n",
      "\u001b[34m[2020-02-16 04:11:40 +0000] [15] [INFO] Listening at: unix:/tmp/gunicorn.sock (15)\u001b[0m\n",
      "\u001b[35m[2020-02-16 04:11:40 +0000] [15] [INFO] Starting gunicorn 19.10.0\u001b[0m\n",
      "\u001b[35m[2020-02-16 04:11:40 +0000] [15] [INFO] Listening at: unix:/tmp/gunicorn.sock (15)\u001b[0m\n",
      "\u001b[34m[2020-02-16 04:11:40 +0000] [15] [INFO] Using worker: gevent\u001b[0m\n",
      "\u001b[34m[2020-02-16 04:11:40 +0000] [22] [INFO] Booting worker with pid: 22\u001b[0m\n",
      "\u001b[34m[2020-02-16 04:11:40 +0000] [23] [INFO] Booting worker with pid: 23\u001b[0m\n",
      "\u001b[34m[2020-02-16 04:11:41 +0000] [27] [INFO] Booting worker with pid: 27\u001b[0m\n",
      "\u001b[34m[2020-02-16 04:11:41 +0000] [28] [INFO] Booting worker with pid: 28\u001b[0m\n",
      "\u001b[35m[2020-02-16 04:11:40 +0000] [15] [INFO] Using worker: gevent\u001b[0m\n",
      "\u001b[35m[2020-02-16 04:11:40 +0000] [22] [INFO] Booting worker with pid: 22\u001b[0m\n",
      "\u001b[35m[2020-02-16 04:11:40 +0000] [23] [INFO] Booting worker with pid: 23\u001b[0m\n",
      "\u001b[35m[2020-02-16 04:11:41 +0000] [27] [INFO] Booting worker with pid: 27\u001b[0m\n",
      "\u001b[35m[2020-02-16 04:11:41 +0000] [28] [INFO] Booting worker with pid: 28\u001b[0m\n",
      "\u001b[34m[2020-02-16:04:11:46:INFO] No GPUs detected (normal if no gpus installed)\u001b[0m\n",
      "\u001b[34m169.254.255.130 - - [16/Feb/2020:04:11:46 +0000] \"GET /ping HTTP/1.1\" 200 0 \"-\" \"Go-http-client/1.1\"\u001b[0m\n",
      "\u001b[34m[2020-02-16:04:11:46:INFO] No GPUs detected (normal if no gpus installed)\u001b[0m\n",
      "\u001b[34m169.254.255.130 - - [16/Feb/2020:04:11:46 +0000] \"GET /execution-parameters HTTP/1.1\" 200 84 \"-\" \"Go-http-client/1.1\"\u001b[0m\n",
      "\u001b[34m[2020-02-16:04:11:47:INFO] No GPUs detected (normal if no gpus installed)\u001b[0m\n",
      "\u001b[34m[2020-02-16:04:11:47:INFO] Determined delimiter of CSV input is ','\u001b[0m\n",
      "\u001b[34m169.254.255.130 - - [16/Feb/2020:04:11:47 +0000] \"POST /invocations HTTP/1.1\" 200 6761 \"-\" \"Go-http-client/1.1\"\u001b[0m\n",
      "\u001b[35m[2020-02-16:04:11:46:INFO] No GPUs detected (normal if no gpus installed)\u001b[0m\n",
      "\u001b[35m169.254.255.130 - - [16/Feb/2020:04:11:46 +0000] \"GET /ping HTTP/1.1\" 200 0 \"-\" \"Go-http-client/1.1\"\u001b[0m\n",
      "\u001b[35m[2020-02-16:04:11:46:INFO] No GPUs detected (normal if no gpus installed)\u001b[0m\n",
      "\u001b[35m169.254.255.130 - - [16/Feb/2020:04:11:46 +0000] \"GET /execution-parameters HTTP/1.1\" 200 84 \"-\" \"Go-http-client/1.1\"\u001b[0m\n",
      "\u001b[35m[2020-02-16:04:11:47:INFO] No GPUs detected (normal if no gpus installed)\u001b[0m\n",
      "\u001b[35m[2020-02-16:04:11:47:INFO] Determined delimiter of CSV input is ','\u001b[0m\n",
      "\u001b[35m169.254.255.130 - - [16/Feb/2020:04:11:47 +0000] \"POST /invocations HTTP/1.1\" 200 6761 \"-\" \"Go-http-client/1.1\"\u001b[0m\n",
      "\u001b[32m2020-02-16T04:11:46.863:[sagemaker logs]: MaxConcurrentTransforms=4, MaxPayloadInMB=6, BatchStrategy=MULTI_RECORD\u001b[0m\n",
      "\n"
     ]
    },
    {
     "data": {
      "text/plain": [
       "'s3://demo-saeed-ohio/sagemaker/DEMO-xgboost-churn/transformtrain-xgb-output/'"
      ]
     },
     "execution_count": 352,
     "metadata": {},
     "output_type": "execute_result"
    }
   ],
   "source": [
    "# Preprocess training input\n",
    "xgb_transformer.transform(preprocessed_test_path, content_type='text/csv')\n",
    "print('Waiting for transform job: ' + xgb_transformer.latest_transform_job.job_name)\n",
    "xgb_transformer.wait()\n",
    "xgb_transformer.output_path"
   ]
  },
  {
   "cell_type": "markdown",
   "metadata": {},
   "source": [
    "## Pipeline"
   ]
  },
  {
   "cell_type": "code",
   "execution_count": 363,
   "metadata": {},
   "outputs": [],
   "source": [
    "from sagemaker.model import Model\n",
    "from sagemaker.pipeline import PipelineModel\n",
    "import boto3\n",
    "from time import gmtime, strftime\n",
    "\n",
    "timestamp_prefix = strftime(\"%Y-%m-%d-%H-%M-%S\", gmtime())\n",
    "\n",
    "scikit_learn_inferencee_model = sklearn_preprocessor.create_model()\n",
    "xgboost_model = xgb.create_model()\n",
    "\n",
    "model_name = 'inference-pipeline-' + timestamp_prefix\n",
    "#endpoint_name = 'inference-pipeline-ep-' + timestamp_prefix\n",
    "sm_model = PipelineModel(\n",
    "    name=model_name, \n",
    "    role=role, \n",
    "    models=[\n",
    "        scikit_learn_inferencee_model, \n",
    "        xgboost_model])\n",
    "\n",
    "#sm_model.deploy(initial_instance_count=1, instance_type='ml.c4.xlarge', endpoint_name=endpoint_name)"
   ]
  },
  {
   "cell_type": "code",
   "execution_count": 364,
   "metadata": {},
   "outputs": [
    {
     "data": {
      "text/plain": [
       "<sagemaker.pipeline.PipelineModel at 0x7fdae5ad2898>"
      ]
     },
     "execution_count": 364,
     "metadata": {},
     "output_type": "execute_result"
    }
   ],
   "source": [
    "sm_model"
   ]
  },
  {
   "cell_type": "code",
   "execution_count": 365,
   "metadata": {},
   "outputs": [
    {
     "data": {
      "text/plain": [
       "'inference-pipeline-2020-02-16-05-46-27'"
      ]
     },
     "execution_count": 365,
     "metadata": {},
     "output_type": "execute_result"
    }
   ],
   "source": [
    "model_name"
   ]
  },
  {
   "cell_type": "code",
   "execution_count": 367,
   "metadata": {},
   "outputs": [
    {
     "name": "stderr",
     "output_type": "stream",
     "text": [
      "WARNING:sagemaker:Using already existing model: inference-pipeline-2020-02-16-05-46-27\n"
     ]
    }
   ],
   "source": [
    "# Define a SKLearn Transformer from the trained SKLearn Estimator\n",
    "transform_pipeline_output_path = 's3://{}/{}/{}/'.format(bucket, prefix, 'transformtrain-pipeline-output')\n",
    "pipeline_transformer = sm_model.transformer(\n",
    "    instance_count=1, \n",
    "    output_path = transform_pipeline_output_path,\n",
    "    instance_type='ml.m4.xlarge',\n",
    "    assemble_with = 'Line',\n",
    "    accept = 'text/csv') "
   ]
  },
  {
   "cell_type": "code",
   "execution_count": 368,
   "metadata": {},
   "outputs": [
    {
     "name": "stdout",
     "output_type": "stream",
     "text": [
      "Waiting for transform job: inference-pipeline-2020-02-16-05-46-27-2020-02-16-05-47-17-936\n",
      "."
     ]
    },
    {
     "data": {
      "text/plain": [
       "'s3://demo-saeed-ohio/sagemaker/DEMO-xgboost-churn/transformtrain-pipeline-output/'"
      ]
     },
     "execution_count": 368,
     "metadata": {},
     "output_type": "execute_result"
    }
   ],
   "source": [
    "# Preprocess training input\n",
    "pipeline_transformer.transform('s3://demo-saeed-ohio/sagemaker/DEMO-xgboost-churn/rawtest/test.csv', content_type='text/csv')\n",
    "print('Waiting for transform job: ' + pipeline_transformer.latest_transform_job.job_name)\n",
    "transformer.wait()\n",
    "pipeline_transformer.output_path"
   ]
  },
  {
   "cell_type": "markdown",
   "metadata": {},
   "source": [
    "---\n",
    "## Compile\n",
    "[Amazon SageMaker Neo](https://aws.amazon.com/sagemaker/neo/) optimizes models to run up to twice as fast, with no loss in accuracy. When calling `compile_model()` function, we specify the target instance family (m4) as well as the S3 bucket to which the compiled model would be stored."
   ]
  },
  {
   "cell_type": "code",
   "execution_count": null,
   "metadata": {},
   "outputs": [],
   "source": [
    "compiled_model = xgb\n",
    "try:\n",
    "    xgb.create_model()._neo_image_account(boto3.Session().region_name)\n",
    "except:\n",
    "    print('Neo is not currently supported in', boto3.Session().region_name)\n",
    "else:\n",
    "    output_path = '/'.join(xgb.output_path.split('/')[:-1])\n",
    "    compiled_model = xgb.compile_model(target_instance_family='ml_m4', \n",
    "                                   input_shape={'data':[1, 69]},\n",
    "                                   role=role,\n",
    "                                   framework='xgboost',\n",
    "                                   framework_version='0.7',\n",
    "                                   output_path=output_path)\n",
    "    compiled_model.name = 'deployed-xgboost-customer-churn'\n",
    "    compiled_model.image = get_image_uri(sess.boto_region_name, 'xgboost-neo', repo_version='latest')"
   ]
  },
  {
   "cell_type": "markdown",
   "metadata": {},
   "source": [
    "---\n",
    "## Host\n",
    "\n",
    "Now that we've trained the algorithm, let's create a model and deploy it to a hosted endpoint."
   ]
  },
  {
   "cell_type": "code",
   "execution_count": null,
   "metadata": {
    "collapsed": true,
    "jupyter": {
     "outputs_hidden": true
    }
   },
   "outputs": [],
   "source": [
    "xgb_predictor = compiled_model.deploy(initial_instance_count = 1, instance_type = 'ml.m4.xlarge')"
   ]
  },
  {
   "cell_type": "markdown",
   "metadata": {},
   "source": [
    "### Evaluate\n",
    "\n",
    "Now that we have a hosted endpoint running, we can make real-time predictions from our model very easily, simply by making an http POST request.  But first, we'll need to setup serializers and deserializers for passing our `test_data` NumPy arrays to the model behind the endpoint."
   ]
  },
  {
   "cell_type": "code",
   "execution_count": null,
   "metadata": {
    "collapsed": true,
    "jupyter": {
     "outputs_hidden": true
    }
   },
   "outputs": [],
   "source": [
    "xgb_predictor.content_type = 'text/csv'\n",
    "xgb_predictor.serializer = csv_serializer\n",
    "xgb_predictor.deserializer = None"
   ]
  },
  {
   "cell_type": "markdown",
   "metadata": {},
   "source": [
    "Now, we'll use a simple function to:\n",
    "1. Loop over our test dataset\n",
    "1. Split it into mini-batches of rows \n",
    "1. Convert those mini-batchs to CSV string payloads\n",
    "1. Retrieve mini-batch predictions by invoking the XGBoost endpoint\n",
    "1. Collect predictions and convert from the CSV output our model provides into a NumPy array"
   ]
  },
  {
   "cell_type": "code",
   "execution_count": null,
   "metadata": {
    "collapsed": true,
    "jupyter": {
     "outputs_hidden": true
    }
   },
   "outputs": [],
   "source": [
    "def predict(data, rows=500):\n",
    "    split_array = np.array_split(data, int(data.shape[0] / float(rows) + 1))\n",
    "    predictions = ''\n",
    "    for array in split_array:\n",
    "        predictions = ','.join([predictions, xgb_predictor.predict(array).decode('utf-8')])\n",
    "\n",
    "    return np.fromstring(predictions[1:], sep=',')\n",
    "\n",
    "predictions = predict(test_data.as_matrix()[:, 1:])"
   ]
  },
  {
   "cell_type": "markdown",
   "metadata": {},
   "source": [
    "There are many ways to compare the performance of a machine learning model, but let's start by simply by comparing actual to predicted values.  In this case, we're simply predicting whether the customer churned (`1`) or not (`0`), which produces a simple confusion matrix."
   ]
  },
  {
   "cell_type": "code",
   "execution_count": null,
   "metadata": {
    "collapsed": true,
    "jupyter": {
     "outputs_hidden": true
    }
   },
   "outputs": [],
   "source": [
    "pd.crosstab(index=test_data.iloc[:, 0], columns=np.round(predictions), rownames=['actual'], colnames=['predictions'])"
   ]
  },
  {
   "cell_type": "markdown",
   "metadata": {},
   "source": [
    "_Note, due to randomized elements of the algorithm, you results may differ slightly._\n",
    "\n",
    "Of the 48 churners, we've correctly predicted 39 of them (true positives). And, we incorrectly predicted 4 customers would churn who then ended up not doing so (false positives).  There are also 9 customers who ended up churning, that we predicted would not (false negatives).\n",
    "\n",
    "An important point here is that because of the `np.round()` function above we are using a simple threshold (or cutoff) of 0.5.  Our predictions from `xgboost` come out as continuous values between 0 and 1 and we force them into the binary classes that we began with.  However, because a customer that churns is expected to cost the company more than proactively trying to retain a customer who we think might churn, we should consider adjusting this cutoff.  That will almost certainly increase the number of false positives, but it can also be expected to increase the number of true positives and reduce the number of false negatives.\n",
    "\n",
    "To get a rough intuition here, let's look at the continuous values of our predictions."
   ]
  },
  {
   "cell_type": "code",
   "execution_count": null,
   "metadata": {
    "collapsed": true,
    "jupyter": {
     "outputs_hidden": true
    }
   },
   "outputs": [],
   "source": [
    "plt.hist(predictions)\n",
    "plt.show()"
   ]
  },
  {
   "cell_type": "markdown",
   "metadata": {},
   "source": [
    "The continuous valued predictions coming from our model tend to skew toward 0 or 1, but there is sufficient mass between 0.1 and 0.9 that adjusting the cutoff should indeed shift a number of customers' predictions.  For example..."
   ]
  },
  {
   "cell_type": "code",
   "execution_count": null,
   "metadata": {
    "collapsed": true,
    "jupyter": {
     "outputs_hidden": true
    }
   },
   "outputs": [],
   "source": [
    "pd.crosstab(index=test_data.iloc[:, 0], columns=np.where(predictions > 0.3, 1, 0))"
   ]
  },
  {
   "cell_type": "markdown",
   "metadata": {},
   "source": [
    "We can see that changing the cutoff from 0.5 to 0.3 results in 1 more true positives, 3 more false positives, and 1 fewer false negatives.  The numbers are small overall here, but that's 6-10% of customers overall that are shifting because of a change to the cutoff.  Was this the right decision?  We may end up retaining 3 extra customers, but we also unnecessarily incentivized 5 more customers who would have stayed.  Determining optimal cutoffs is a key step in properly applying machine learning in a real-world setting.  Let's discuss this more broadly and then apply a specific, hypothetical solution for our current problem.\n",
    "\n",
    "### Relative cost of errors\n",
    "\n",
    "Any practical binary classification problem is likely to produce a similarly sensitive cutoff. That by itself isn’t a problem. After all, if the scores for two classes are really easy to separate, the problem probably isn’t very hard to begin with and might even be solvable with simple rules instead of ML.\n",
    "\n",
    "More important, if I put an ML model into production, there are costs associated with the model erroneously assigning false positives and false negatives. I also need to look at similar costs associated with correct predictions of true positives and true negatives.  Because the choice of the cutoff affects all four of these statistics, I need to consider the relative costs to the business for each of these four outcomes for each prediction.\n",
    "\n",
    "#### Assigning costs\n",
    "\n",
    "What are the costs for our problem of mobile operator churn? The costs, of course, depend on the specific actions that the business takes. Let's make some assumptions here.\n",
    "\n",
    "First, assign the true negatives the cost of \\$0. Our model essentially correctly identified a happy customer in this case, and we don’t need to do anything.\n",
    "\n",
    "False negatives are the most problematic, because they incorrectly predict that a churning customer will stay. We lose the customer and will have to pay all the costs of acquiring a replacement customer, including foregone revenue, advertising costs, administrative costs, point of sale costs, and likely a phone hardware subsidy. A quick search on the Internet reveals that such costs typically run in the hundreds of dollars so, for the purposes of this example, let's assume \\$500. This is the cost of false negatives.\n",
    "\n",
    "Finally, for customers that our model identifies as churning, let's assume a retention incentive in the amount of \\$100. If my provider offered me such a concession, I’d certainly think twice before leaving. This is the cost of both true positive and false positive outcomes. In the case of false positives (the customer is happy, but the model mistakenly predicted churn), we will “waste” the \\$100 concession. We probably could have spent that \\$100 more effectively, but it's possible we increased the loyalty of an already loyal customer, so that’s not so bad."
   ]
  },
  {
   "cell_type": "markdown",
   "metadata": {},
   "source": [
    "#### Finding the optimal cutoff\n",
    "\n",
    "It’s clear that false negatives are substantially more costly than false positives. Instead of optimizing for error based on the number of customers, we should be minimizing a cost function that looks like this:\n",
    "\n",
    "```txt\n",
    "$500 * FN(C) + $0 * TN(C) + $100 * FP(C) + $100 * TP(C)\n",
    "```\n",
    "\n",
    "FN(C) means that the false negative percentage is a function of the cutoff, C, and similar for TN, FP, and TP.  We need to find the cutoff, C, where the result of the expression is smallest.\n",
    "\n",
    "A straightforward way to do this, is to simply run a simulation over a large number of possible cutoffs.  We test 100 possible values in the for loop below."
   ]
  },
  {
   "cell_type": "code",
   "execution_count": null,
   "metadata": {
    "collapsed": true,
    "jupyter": {
     "outputs_hidden": true
    }
   },
   "outputs": [],
   "source": [
    "cutoffs = np.arange(0.01, 1, 0.01)\n",
    "costs = []\n",
    "for c in cutoffs:\n",
    "    costs.append(np.sum(np.sum(np.array([[0, 100], [500, 100]]) * \n",
    "                               pd.crosstab(index=test_data.iloc[:, 0], \n",
    "                                           columns=np.where(predictions > c, 1, 0)))))\n",
    "\n",
    "costs = np.array(costs)\n",
    "plt.plot(cutoffs, costs)\n",
    "plt.show()\n",
    "print('Cost is minimized near a cutoff of:', cutoffs[np.argmin(costs)], 'for a cost of:', np.min(costs))"
   ]
  },
  {
   "cell_type": "markdown",
   "metadata": {},
   "source": [
    "The above chart shows how picking a threshold too low results in costs skyrocketing as all customers are given a retention incentive.  Meanwhile, setting the threshold too high results in too many lost customers, which ultimately grows to be nearly as costly.  The overall cost can be minimized at \\$8400 by setting the cutoff to 0.46, which is substantially better than the \\$20k+ I would expect to lose by not taking any action."
   ]
  },
  {
   "cell_type": "markdown",
   "metadata": {},
   "source": [
    "---\n",
    "## Extensions\n",
    "\n",
    "This notebook showcased how to build a model that predicts whether a customer is likely to churn, and then how to optimally set a threshold that accounts for the cost of true positives, false positives, and false negatives.  There are several means of extending it including:\n",
    "- Some customers who receive retention incentives will still churn.  Including a probability of churning despite receiving an incentive in our cost function would provide a better ROI on our retention programs.\n",
    "- Customers who switch to a lower-priced plan or who deactivate a paid feature represent different kinds of churn that could be modeled separately.\n",
    "- Modeling the evolution of customer behavior. If usage is dropping and the number of calls placed to Customer Service is increasing, you are more likely to experience churn then if the trend is the opposite. A customer profile should incorporate behavior trends.\n",
    "- Actual training data and monetary cost assignments could be more complex.\n",
    "- Multiple models for each type of churn could be needed.\n",
    "\n",
    "Regardless of additional complexity, similar principles described in this notebook are likely apply."
   ]
  },
  {
   "cell_type": "markdown",
   "metadata": {},
   "source": [
    "### (Optional) Clean-up\n",
    "\n",
    "If you're ready to be done with this notebook, please run the cell below.  This will remove the hosted endpoint you created and avoid any charges from a stray instance being left on."
   ]
  },
  {
   "cell_type": "code",
   "execution_count": null,
   "metadata": {
    "collapsed": true,
    "jupyter": {
     "outputs_hidden": true
    }
   },
   "outputs": [],
   "source": [
    "sagemaker.Session().delete_endpoint(xgb_predictor.endpoint)"
   ]
  }
 ],
 "metadata": {
  "celltoolbar": "Tags",
  "kernelspec": {
   "display_name": "conda_pytorch_p36",
   "language": "python",
   "name": "conda_pytorch_p36"
  },
  "language_info": {
   "codemirror_mode": {
    "name": "ipython",
    "version": 3
   },
   "file_extension": ".py",
   "mimetype": "text/x-python",
   "name": "python",
   "nbconvert_exporter": "python",
   "pygments_lexer": "ipython3",
   "version": "3.6.5"
  },
  "notice": "Copyright 2017 Amazon.com, Inc. or its affiliates. All Rights Reserved.  Licensed under the Apache License, Version 2.0 (the \"License\"). You may not use this file except in compliance with the License. A copy of the License is located at http://aws.amazon.com/apache2.0/ or in the \"license\" file accompanying this file. This file is distributed on an \"AS IS\" BASIS, WITHOUT WARRANTIES OR CONDITIONS OF ANY KIND, either express or implied. See the License for the specific language governing permissions and limitations under the License."
 },
 "nbformat": 4,
 "nbformat_minor": 4
}
